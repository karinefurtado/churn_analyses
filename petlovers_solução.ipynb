{
 "cells": [
  {
   "cell_type": "code",
   "execution_count": 180,
   "id": "b3eea87d",
   "metadata": {
    "tags": [
     "hide-input"
    ]
   },
   "outputs": [],
   "source": [
    "# Bibliotecas para tratamento dos dados\n",
    "import pandas as pd\n",
    "import numpy as np\n",
    "import seaborn as sns\n",
    "import matplotlib.pyplot as plt\n",
    "import plotly.express as px\n",
    "import plotly.graph_objects as go"
   ]
  },
  {
   "cell_type": "code",
   "execution_count": 181,
   "id": "6ef59ac3",
   "metadata": {},
   "outputs": [],
   "source": [
    "# 2. Importando a base de dados\n",
    "tabela = pd.read_csv(\"data-test-analytics_5.csv\")"
   ]
  },
  {
   "cell_type": "code",
   "execution_count": 182,
   "id": "85bb3317",
   "metadata": {},
   "outputs": [
    {
     "data": {
      "text/html": [
       "<div>\n",
       "<style scoped>\n",
       "    .dataframe tbody tr th:only-of-type {\n",
       "        vertical-align: middle;\n",
       "    }\n",
       "\n",
       "    .dataframe tbody tr th {\n",
       "        vertical-align: top;\n",
       "    }\n",
       "\n",
       "    .dataframe thead th {\n",
       "        text-align: right;\n",
       "    }\n",
       "</style>\n",
       "<table border=\"1\" class=\"dataframe\">\n",
       "  <thead>\n",
       "    <tr style=\"text-align: right;\">\n",
       "      <th></th>\n",
       "      <th>id</th>\n",
       "      <th>created_at</th>\n",
       "      <th>updated_at</th>\n",
       "      <th>deleted_at</th>\n",
       "      <th>name_hash</th>\n",
       "      <th>email_hash</th>\n",
       "      <th>address_hash</th>\n",
       "      <th>birth_date</th>\n",
       "      <th>status</th>\n",
       "      <th>version</th>\n",
       "      <th>city</th>\n",
       "      <th>state</th>\n",
       "      <th>neighborhood</th>\n",
       "      <th>last_date_purchase</th>\n",
       "      <th>average_ticket</th>\n",
       "      <th>items_quantity</th>\n",
       "      <th>all_revenue</th>\n",
       "      <th>all_orders</th>\n",
       "      <th>recency</th>\n",
       "      <th>marketing_source</th>\n",
       "    </tr>\n",
       "  </thead>\n",
       "  <tbody>\n",
       "    <tr>\n",
       "      <th>0</th>\n",
       "      <td>8bf7960e-3b93-468b-856e-6c6c5b56f52b</td>\n",
       "      <td>08/15/17 07:05 AM</td>\n",
       "      <td>01/14/21 11:23 AM</td>\n",
       "      <td>NaN</td>\n",
       "      <td>312d206168a318614897e8ccac43bff9</td>\n",
       "      <td>83eb3aed9a44377df80ce876dce92c9a</td>\n",
       "      <td>8b4bfaa0cbc41a16f46da15ddcd6a907</td>\n",
       "      <td>07/10/74 12:00 AM</td>\n",
       "      <td>active</td>\n",
       "      <td>2.31.7</td>\n",
       "      <td>Peixoto da Praia</td>\n",
       "      <td>AM</td>\n",
       "      <td>Aparecida 7ª Seção</td>\n",
       "      <td>01/14/21 11:23 AM</td>\n",
       "      <td>151.142942</td>\n",
       "      <td>10</td>\n",
       "      <td>906.857651</td>\n",
       "      <td>6</td>\n",
       "      <td>35</td>\n",
       "      <td>crm</td>\n",
       "    </tr>\n",
       "    <tr>\n",
       "      <th>1</th>\n",
       "      <td>a39535b5-4647-4680-b4f6-3aed57c1f1ff</td>\n",
       "      <td>12/31/19 09:53 PM</td>\n",
       "      <td>01/08/21 11:23 AM</td>\n",
       "      <td>NaN</td>\n",
       "      <td>de448fcb47d0d6a873b2eef52b5ee595</td>\n",
       "      <td>72678bb35e2ac84ed373e81dd9dca28c</td>\n",
       "      <td>22f1cfa1847f38da3f3cb114dd2b9247</td>\n",
       "      <td>07/06/40 12:00 AM</td>\n",
       "      <td>paused</td>\n",
       "      <td>3.30.12</td>\n",
       "      <td>Fernandes</td>\n",
       "      <td>RR</td>\n",
       "      <td>Santa Isabel</td>\n",
       "      <td>01/08/21 11:23 AM</td>\n",
       "      <td>236.991790</td>\n",
       "      <td>4</td>\n",
       "      <td>236.991790</td>\n",
       "      <td>1</td>\n",
       "      <td>41</td>\n",
       "      <td>organic_search</td>\n",
       "    </tr>\n",
       "    <tr>\n",
       "      <th>2</th>\n",
       "      <td>dc067cd2-c021-42bd-8c0e-beb267280e66</td>\n",
       "      <td>03/07/19 11:46 PM</td>\n",
       "      <td>01/07/21 11:23 AM</td>\n",
       "      <td>NaN</td>\n",
       "      <td>cb09e447ddc38283373d56bb46498e6a</td>\n",
       "      <td>668f4ee9add29c7bd02c485f1b7509e3</td>\n",
       "      <td>6cb47446a086ee6483b3eb954f11467a</td>\n",
       "      <td>03/18/63 12:00 AM</td>\n",
       "      <td>active</td>\n",
       "      <td>3.28.9</td>\n",
       "      <td>Lopes</td>\n",
       "      <td>RR</td>\n",
       "      <td>Estrela</td>\n",
       "      <td>01/07/21 11:23 AM</td>\n",
       "      <td>211.955597</td>\n",
       "      <td>13</td>\n",
       "      <td>2331.511572</td>\n",
       "      <td>11</td>\n",
       "      <td>42</td>\n",
       "      <td>organic_search</td>\n",
       "    </tr>\n",
       "    <tr>\n",
       "      <th>3</th>\n",
       "      <td>b5e4caeb-3a9b-49ed-aa33-5acd06b162c1</td>\n",
       "      <td>07/21/18 10:17 AM</td>\n",
       "      <td>01/10/21 11:23 AM</td>\n",
       "      <td>NaN</td>\n",
       "      <td>52593437a405b11b3557170680ef80c8</td>\n",
       "      <td>d3fb45188d95c8d7cc49da5b4f727c86</td>\n",
       "      <td>0a6f0c54db1e6f19347f96b50f8092a4</td>\n",
       "      <td>11/21/80 12:00 AM</td>\n",
       "      <td>active</td>\n",
       "      <td>3.34.3</td>\n",
       "      <td>Campos do Campo</td>\n",
       "      <td>PE</td>\n",
       "      <td>Confisco</td>\n",
       "      <td>01/10/21 11:23 AM</td>\n",
       "      <td>204.113227</td>\n",
       "      <td>8</td>\n",
       "      <td>1224.679359</td>\n",
       "      <td>6</td>\n",
       "      <td>39</td>\n",
       "      <td>organic_search</td>\n",
       "    </tr>\n",
       "    <tr>\n",
       "      <th>4</th>\n",
       "      <td>d4ff61fc-f008-4e19-b8ae-bd70cfa3ae27</td>\n",
       "      <td>06/08/18 12:09 PM</td>\n",
       "      <td>01/18/21 11:23 AM</td>\n",
       "      <td>NaN</td>\n",
       "      <td>dbda4b778a966c21904238ed2d2005db</td>\n",
       "      <td>a0f76bc49b4c43327b536da6e1a1465e</td>\n",
       "      <td>143b9f169b4fa1692f6d79b5682169b5</td>\n",
       "      <td>07/07/59 12:00 AM</td>\n",
       "      <td>active</td>\n",
       "      <td>3.19.8</td>\n",
       "      <td>das Neves</td>\n",
       "      <td>RJ</td>\n",
       "      <td>Vila Suzana Segunda Seção</td>\n",
       "      <td>01/18/21 11:23 AM</td>\n",
       "      <td>252.940997</td>\n",
       "      <td>9</td>\n",
       "      <td>2023.527980</td>\n",
       "      <td>8</td>\n",
       "      <td>31</td>\n",
       "      <td>crm</td>\n",
       "    </tr>\n",
       "    <tr>\n",
       "      <th>...</th>\n",
       "      <td>...</td>\n",
       "      <td>...</td>\n",
       "      <td>...</td>\n",
       "      <td>...</td>\n",
       "      <td>...</td>\n",
       "      <td>...</td>\n",
       "      <td>...</td>\n",
       "      <td>...</td>\n",
       "      <td>...</td>\n",
       "      <td>...</td>\n",
       "      <td>...</td>\n",
       "      <td>...</td>\n",
       "      <td>...</td>\n",
       "      <td>...</td>\n",
       "      <td>...</td>\n",
       "      <td>...</td>\n",
       "      <td>...</td>\n",
       "      <td>...</td>\n",
       "      <td>...</td>\n",
       "      <td>...</td>\n",
       "    </tr>\n",
       "    <tr>\n",
       "      <th>9995</th>\n",
       "      <td>90c9fd5f-80d2-4f59-9970-6b3e6dac5f57</td>\n",
       "      <td>09/12/17 12:35 AM</td>\n",
       "      <td>01/31/21 11:23 AM</td>\n",
       "      <td>NaN</td>\n",
       "      <td>eb89d44181a7873ba67f24ff511fc57f</td>\n",
       "      <td>befbd1b02e0a4d52a913adbd093789ab</td>\n",
       "      <td>be93ff9948bf23bd373599f3d5d3798c</td>\n",
       "      <td>09/12/61 12:00 AM</td>\n",
       "      <td>active</td>\n",
       "      <td>4.30.12</td>\n",
       "      <td>Souza</td>\n",
       "      <td>RN</td>\n",
       "      <td>Concórdia</td>\n",
       "      <td>01/31/21 11:23 AM</td>\n",
       "      <td>215.079785</td>\n",
       "      <td>5</td>\n",
       "      <td>1075.398927</td>\n",
       "      <td>5</td>\n",
       "      <td>18</td>\n",
       "      <td>paid_search</td>\n",
       "    </tr>\n",
       "    <tr>\n",
       "      <th>9996</th>\n",
       "      <td>0edb7aec-8816-4904-bcd7-cbe141391441</td>\n",
       "      <td>04/20/18 07:43 AM</td>\n",
       "      <td>01/18/21 11:23 AM</td>\n",
       "      <td>NaN</td>\n",
       "      <td>8d5dc7dd1225fa9746f4509c8cadeedb</td>\n",
       "      <td>d1beba53e18c097d0bb2a4a91de9ad09</td>\n",
       "      <td>1aafbc7d76201a320a5f97dafd891e95</td>\n",
       "      <td>09/15/69 12:00 AM</td>\n",
       "      <td>active</td>\n",
       "      <td>4.28.13</td>\n",
       "      <td>Silveira</td>\n",
       "      <td>AL</td>\n",
       "      <td>São Francisco</td>\n",
       "      <td>01/18/21 11:23 AM</td>\n",
       "      <td>254.525826</td>\n",
       "      <td>10</td>\n",
       "      <td>2290.732434</td>\n",
       "      <td>9</td>\n",
       "      <td>31</td>\n",
       "      <td>organic_search</td>\n",
       "    </tr>\n",
       "    <tr>\n",
       "      <th>9997</th>\n",
       "      <td>30130652-d616-4b40-adbb-189e3351016c</td>\n",
       "      <td>08/14/17 12:28 AM</td>\n",
       "      <td>01/03/21 11:23 AM</td>\n",
       "      <td>NaN</td>\n",
       "      <td>9517c44d34d9965d25e77487a510b696</td>\n",
       "      <td>baffbfb45790c0bca921d418b2ccc987</td>\n",
       "      <td>0cad001abedb688cc64a819d04a3bc71</td>\n",
       "      <td>01/14/60 12:00 AM</td>\n",
       "      <td>active</td>\n",
       "      <td>3.18.11</td>\n",
       "      <td>Martins</td>\n",
       "      <td>SC</td>\n",
       "      <td>Frei Leopoldo</td>\n",
       "      <td>01/03/21 11:23 AM</td>\n",
       "      <td>208.741902</td>\n",
       "      <td>8</td>\n",
       "      <td>1252.451411</td>\n",
       "      <td>6</td>\n",
       "      <td>46</td>\n",
       "      <td>paid_search</td>\n",
       "    </tr>\n",
       "    <tr>\n",
       "      <th>9998</th>\n",
       "      <td>37b52952-afdd-425a-9149-4012ea48ac87</td>\n",
       "      <td>01/19/17 07:19 PM</td>\n",
       "      <td>01/09/21 11:23 AM</td>\n",
       "      <td>NaN</td>\n",
       "      <td>c800df6e2b9449cb5d6a812563566887</td>\n",
       "      <td>0373a1cdff0fca0b4c4111401051548c</td>\n",
       "      <td>ffd915817fc2bd67575436b7f8e57bde</td>\n",
       "      <td>08/06/57 12:00 AM</td>\n",
       "      <td>active</td>\n",
       "      <td>5.51.6</td>\n",
       "      <td>Gomes das Flores</td>\n",
       "      <td>PA</td>\n",
       "      <td>Cdi Jatoba</td>\n",
       "      <td>01/09/21 11:23 AM</td>\n",
       "      <td>211.174796</td>\n",
       "      <td>9</td>\n",
       "      <td>0.000000</td>\n",
       "      <td>0</td>\n",
       "      <td>40</td>\n",
       "      <td>direct</td>\n",
       "    </tr>\n",
       "    <tr>\n",
       "      <th>9999</th>\n",
       "      <td>97518d4a-88a1-49ff-a5cc-ad1e8967afdc</td>\n",
       "      <td>02/18/17 03:15 AM</td>\n",
       "      <td>01/16/21 11:23 AM</td>\n",
       "      <td>NaN</td>\n",
       "      <td>3d0a1b90c39270c39250680c4b26d082</td>\n",
       "      <td>92053227878d63b2fa05978c0a9bf9ae</td>\n",
       "      <td>89350fd7d01ec1a639fed0f193208cd9</td>\n",
       "      <td>09/14/43 12:00 AM</td>\n",
       "      <td>active</td>\n",
       "      <td>4.36.11</td>\n",
       "      <td>Alves</td>\n",
       "      <td>MT</td>\n",
       "      <td>Vila Mangueiras</td>\n",
       "      <td>01/16/21 11:23 AM</td>\n",
       "      <td>259.786807</td>\n",
       "      <td>7</td>\n",
       "      <td>2857.654879</td>\n",
       "      <td>11</td>\n",
       "      <td>33</td>\n",
       "      <td>direct</td>\n",
       "    </tr>\n",
       "  </tbody>\n",
       "</table>\n",
       "<p>10000 rows × 20 columns</p>\n",
       "</div>"
      ],
      "text/plain": [
       "                                        id         created_at  \\\n",
       "0     8bf7960e-3b93-468b-856e-6c6c5b56f52b  08/15/17 07:05 AM   \n",
       "1     a39535b5-4647-4680-b4f6-3aed57c1f1ff  12/31/19 09:53 PM   \n",
       "2     dc067cd2-c021-42bd-8c0e-beb267280e66  03/07/19 11:46 PM   \n",
       "3     b5e4caeb-3a9b-49ed-aa33-5acd06b162c1  07/21/18 10:17 AM   \n",
       "4     d4ff61fc-f008-4e19-b8ae-bd70cfa3ae27  06/08/18 12:09 PM   \n",
       "...                                    ...                ...   \n",
       "9995  90c9fd5f-80d2-4f59-9970-6b3e6dac5f57  09/12/17 12:35 AM   \n",
       "9996  0edb7aec-8816-4904-bcd7-cbe141391441  04/20/18 07:43 AM   \n",
       "9997  30130652-d616-4b40-adbb-189e3351016c  08/14/17 12:28 AM   \n",
       "9998  37b52952-afdd-425a-9149-4012ea48ac87  01/19/17 07:19 PM   \n",
       "9999  97518d4a-88a1-49ff-a5cc-ad1e8967afdc  02/18/17 03:15 AM   \n",
       "\n",
       "             updated_at deleted_at                         name_hash  \\\n",
       "0     01/14/21 11:23 AM        NaN  312d206168a318614897e8ccac43bff9   \n",
       "1     01/08/21 11:23 AM        NaN  de448fcb47d0d6a873b2eef52b5ee595   \n",
       "2     01/07/21 11:23 AM        NaN  cb09e447ddc38283373d56bb46498e6a   \n",
       "3     01/10/21 11:23 AM        NaN  52593437a405b11b3557170680ef80c8   \n",
       "4     01/18/21 11:23 AM        NaN  dbda4b778a966c21904238ed2d2005db   \n",
       "...                 ...        ...                               ...   \n",
       "9995  01/31/21 11:23 AM        NaN  eb89d44181a7873ba67f24ff511fc57f   \n",
       "9996  01/18/21 11:23 AM        NaN  8d5dc7dd1225fa9746f4509c8cadeedb   \n",
       "9997  01/03/21 11:23 AM        NaN  9517c44d34d9965d25e77487a510b696   \n",
       "9998  01/09/21 11:23 AM        NaN  c800df6e2b9449cb5d6a812563566887   \n",
       "9999  01/16/21 11:23 AM        NaN  3d0a1b90c39270c39250680c4b26d082   \n",
       "\n",
       "                            email_hash                      address_hash  \\\n",
       "0     83eb3aed9a44377df80ce876dce92c9a  8b4bfaa0cbc41a16f46da15ddcd6a907   \n",
       "1     72678bb35e2ac84ed373e81dd9dca28c  22f1cfa1847f38da3f3cb114dd2b9247   \n",
       "2     668f4ee9add29c7bd02c485f1b7509e3  6cb47446a086ee6483b3eb954f11467a   \n",
       "3     d3fb45188d95c8d7cc49da5b4f727c86  0a6f0c54db1e6f19347f96b50f8092a4   \n",
       "4     a0f76bc49b4c43327b536da6e1a1465e  143b9f169b4fa1692f6d79b5682169b5   \n",
       "...                                ...                               ...   \n",
       "9995  befbd1b02e0a4d52a913adbd093789ab  be93ff9948bf23bd373599f3d5d3798c   \n",
       "9996  d1beba53e18c097d0bb2a4a91de9ad09  1aafbc7d76201a320a5f97dafd891e95   \n",
       "9997  baffbfb45790c0bca921d418b2ccc987  0cad001abedb688cc64a819d04a3bc71   \n",
       "9998  0373a1cdff0fca0b4c4111401051548c  ffd915817fc2bd67575436b7f8e57bde   \n",
       "9999  92053227878d63b2fa05978c0a9bf9ae  89350fd7d01ec1a639fed0f193208cd9   \n",
       "\n",
       "             birth_date  status  version               city state  \\\n",
       "0     07/10/74 12:00 AM  active   2.31.7   Peixoto da Praia    AM   \n",
       "1     07/06/40 12:00 AM  paused  3.30.12          Fernandes    RR   \n",
       "2     03/18/63 12:00 AM  active   3.28.9              Lopes    RR   \n",
       "3     11/21/80 12:00 AM  active   3.34.3    Campos do Campo    PE   \n",
       "4     07/07/59 12:00 AM  active   3.19.8          das Neves    RJ   \n",
       "...                 ...     ...      ...                ...   ...   \n",
       "9995  09/12/61 12:00 AM  active  4.30.12              Souza    RN   \n",
       "9996  09/15/69 12:00 AM  active  4.28.13           Silveira    AL   \n",
       "9997  01/14/60 12:00 AM  active  3.18.11            Martins    SC   \n",
       "9998  08/06/57 12:00 AM  active   5.51.6   Gomes das Flores    PA   \n",
       "9999  09/14/43 12:00 AM  active  4.36.11              Alves    MT   \n",
       "\n",
       "                   neighborhood last_date_purchase  average_ticket  \\\n",
       "0            Aparecida 7ª Seção  01/14/21 11:23 AM      151.142942   \n",
       "1                  Santa Isabel  01/08/21 11:23 AM      236.991790   \n",
       "2                       Estrela  01/07/21 11:23 AM      211.955597   \n",
       "3                      Confisco  01/10/21 11:23 AM      204.113227   \n",
       "4     Vila Suzana Segunda Seção  01/18/21 11:23 AM      252.940997   \n",
       "...                         ...                ...             ...   \n",
       "9995                  Concórdia  01/31/21 11:23 AM      215.079785   \n",
       "9996              São Francisco  01/18/21 11:23 AM      254.525826   \n",
       "9997              Frei Leopoldo  01/03/21 11:23 AM      208.741902   \n",
       "9998                 Cdi Jatoba  01/09/21 11:23 AM      211.174796   \n",
       "9999            Vila Mangueiras  01/16/21 11:23 AM      259.786807   \n",
       "\n",
       "      items_quantity  all_revenue  all_orders  recency marketing_source  \n",
       "0                 10   906.857651           6       35              crm  \n",
       "1                  4   236.991790           1       41   organic_search  \n",
       "2                 13  2331.511572          11       42   organic_search  \n",
       "3                  8  1224.679359           6       39   organic_search  \n",
       "4                  9  2023.527980           8       31              crm  \n",
       "...              ...          ...         ...      ...              ...  \n",
       "9995               5  1075.398927           5       18      paid_search  \n",
       "9996              10  2290.732434           9       31   organic_search  \n",
       "9997               8  1252.451411           6       46      paid_search  \n",
       "9998               9     0.000000           0       40           direct  \n",
       "9999               7  2857.654879          11       33           direct  \n",
       "\n",
       "[10000 rows x 20 columns]"
      ]
     },
     "metadata": {},
     "output_type": "display_data"
    }
   ],
   "source": [
    "# 3. Visualizando a base de dados\n",
    "display(tabela)"
   ]
  },
  {
   "cell_type": "code",
   "execution_count": 183,
   "id": "6991585c",
   "metadata": {},
   "outputs": [
    {
     "name": "stdout",
     "output_type": "stream",
     "text": [
      "<class 'pandas.core.frame.DataFrame'>\n",
      "RangeIndex: 10000 entries, 0 to 9999\n",
      "Data columns (total 20 columns):\n",
      " #   Column              Non-Null Count  Dtype  \n",
      "---  ------              --------------  -----  \n",
      " 0   id                  10000 non-null  object \n",
      " 1   created_at          10000 non-null  object \n",
      " 2   updated_at          10000 non-null  object \n",
      " 3   deleted_at          505 non-null    object \n",
      " 4   name_hash           10000 non-null  object \n",
      " 5   email_hash          10000 non-null  object \n",
      " 6   address_hash        10000 non-null  object \n",
      " 7   birth_date          10000 non-null  object \n",
      " 8   status              10000 non-null  object \n",
      " 9   version             10000 non-null  object \n",
      " 10  city                10000 non-null  object \n",
      " 11  state               10000 non-null  object \n",
      " 12  neighborhood        10000 non-null  object \n",
      " 13  last_date_purchase  10000 non-null  object \n",
      " 14  average_ticket      10000 non-null  float64\n",
      " 15  items_quantity      10000 non-null  int64  \n",
      " 16  all_revenue         10000 non-null  float64\n",
      " 17  all_orders          10000 non-null  int64  \n",
      " 18  recency             10000 non-null  int64  \n",
      " 19  marketing_source    10000 non-null  object \n",
      "dtypes: float64(2), int64(3), object(15)\n",
      "memory usage: 1.5+ MB\n",
      "None\n"
     ]
    }
   ],
   "source": [
    "print(tabela.info())"
   ]
  },
  {
   "cell_type": "code",
   "execution_count": 184,
   "id": "3dcba411",
   "metadata": {},
   "outputs": [],
   "source": [
    "# excluindo colunas desnecessárias\n",
    "tabela = tabela.drop(\"id\", axis=1)\n",
    "tabela = tabela.drop(\"email_hash\", axis=1)\n",
    "tabela = tabela.drop(\"address_hash\", axis=1)\n",
    "tabela = tabela.drop(\"name_hash\", axis=1)\n",
    "tabela = tabela.drop(\"birth_date\", axis=1)\n",
    "tabela = tabela.drop(\"city\", axis=1)\n",
    "tabela = tabela.drop(\"neighborhood\", axis=1)\n",
    "tabela = tabela.drop(\"recency\", axis=1)\n"
   ]
  },
  {
   "cell_type": "code",
   "execution_count": 185,
   "id": "599294c3",
   "metadata": {},
   "outputs": [
    {
     "name": "stdout",
     "output_type": "stream",
     "text": [
      "status\n",
      "active      8524\n",
      "paused       971\n",
      "canceled     505\n",
      "Name: count, dtype: int64\n",
      "status\n",
      "active      85.24%\n",
      "paused       9.71%\n",
      "canceled     5.05%\n",
      "Name: proportion, dtype: object\n"
     ]
    }
   ],
   "source": [
    "\n",
    "print(tabela[\"status\"].value_counts())\n",
    "print(tabela[\"status\"].value_counts(normalize=True).map(\"{:.2%}\".format))\n"
   ]
  },
  {
   "cell_type": "code",
   "execution_count": 186,
   "id": "cb9983f3",
   "metadata": {},
   "outputs": [],
   "source": [
    "tabela['updated_at'] = pd.to_datetime(tabela['updated_at'], format='%m/%d/%y %I:%M %p')\n",
    "\n",
    "# Extract date and year information\n",
    "#tabela['date'] = tabela['updated_at'].dt.date\n",
    "#tabela['year'] = tabela['updated_at'].dt.year"
   ]
  },
  {
   "cell_type": "code",
   "execution_count": 187,
   "id": "04063435",
   "metadata": {},
   "outputs": [],
   "source": [
    "# Convert the column to datetime format with explicit format specification\n",
    "tabela['created_at'] = pd.to_datetime(tabela['created_at'], format='%m/%d/%y %I:%M %p')\n",
    "\n",
    "\n",
    "# Extract date and year information\n",
    "#tabela['date'] = tabela['created_at'].dt.date\n",
    "#tabela['year'] = tabela['created_at'].dt.year"
   ]
  },
  {
   "cell_type": "code",
   "execution_count": 188,
   "id": "20934d28",
   "metadata": {},
   "outputs": [],
   "source": [
    "tabela['last_date_purchase'] = pd.to_datetime(tabela['last_date_purchase'], format='%m/%d/%y %I:%M %p')"
   ]
  },
  {
   "cell_type": "code",
   "execution_count": 189,
   "id": "4018de4c",
   "metadata": {},
   "outputs": [
    {
     "data": {
      "application/vnd.plotly.v1+json": {
       "config": {
        "plotlyServerURL": "https://plot.ly"
       },
       "data": [
        {
         "alignmentgroup": "True",
         "bingroup": "x",
         "hovertemplate": "status=active<br>month=%{x}<br>count=%{y}<extra></extra>",
         "legendgroup": "active",
         "marker": {
          "color": "#636efa",
          "pattern": {
           "shape": ""
          }
         },
         "name": "active",
         "offsetgroup": "active",
         "orientation": "v",
         "showlegend": true,
         "texttemplate": "%{value}",
         "type": "histogram",
         "x": [
          3,
          5,
          9,
          8,
          3,
          7,
          3,
          6,
          10,
          3,
          1,
          3,
          7,
          6,
          6,
          4,
          9,
          3,
          11,
          4,
          8,
          6,
          12,
          7,
          7,
          6,
          11,
          7,
          11,
          4,
          4,
          7,
          8,
          12,
          6,
          11,
          4,
          10,
          10,
          8,
          9,
          7,
          11,
          6,
          12,
          8,
          2,
          2,
          4,
          10,
          2,
          7,
          7,
          7,
          4,
          4,
          10,
          4,
          5,
          12,
          2,
          11,
          9,
          12,
          10,
          11,
          2,
          8,
          10,
          11,
          12,
          2,
          3,
          8,
          9,
          7,
          3,
          10,
          10,
          8,
          4,
          8,
          1,
          4,
          3,
          5,
          6,
          3,
          3,
          10,
          9,
          11,
          7,
          12,
          12,
          6,
          7,
          9,
          2,
          5,
          11,
          10,
          9,
          1,
          2,
          8,
          3,
          2,
          8,
          2,
          4,
          2,
          3,
          10,
          9,
          1,
          6,
          6,
          9,
          3,
          3,
          3,
          1,
          3,
          6,
          9,
          5,
          7,
          10,
          6,
          2,
          2,
          5,
          4,
          8,
          7,
          8,
          4,
          2,
          5,
          2,
          5,
          5,
          6,
          8,
          9,
          7,
          7,
          7,
          1,
          6,
          4,
          2,
          4,
          10,
          8,
          5,
          10,
          12,
          8,
          8,
          7,
          1,
          1,
          4,
          7,
          2,
          12,
          6,
          3,
          12,
          10,
          3,
          7,
          9,
          6,
          12,
          1,
          8,
          7,
          1,
          4,
          1,
          5,
          3,
          11,
          5,
          2,
          4,
          11,
          5,
          5,
          4,
          10,
          9,
          9,
          4,
          10,
          10,
          4,
          1,
          10,
          5,
          8,
          7,
          3,
          7,
          10,
          11,
          7,
          8,
          7,
          3,
          1,
          6,
          11,
          7,
          2,
          7,
          9,
          7,
          2,
          7,
          6,
          3,
          1,
          6,
          7,
          12,
          10,
          4,
          4,
          5,
          9,
          1,
          4,
          10,
          7,
          11,
          9,
          4,
          1,
          10,
          6,
          9,
          12,
          9,
          3,
          4,
          3,
          10,
          3,
          2,
          1,
          6,
          1,
          1,
          5,
          4,
          4,
          1,
          6,
          6,
          4,
          3,
          3,
          9,
          1,
          8,
          12,
          10,
          12,
          4,
          1,
          2,
          12,
          10,
          1,
          12,
          7,
          4,
          4,
          6,
          7,
          10,
          3,
          9,
          6,
          7,
          12,
          12,
          12,
          4,
          8,
          5,
          1,
          5,
          4,
          2,
          3,
          7,
          2,
          2,
          8,
          6,
          8,
          1,
          3,
          12,
          10,
          6,
          7,
          7,
          3,
          2,
          6,
          2,
          12,
          2,
          8,
          3,
          12,
          3,
          12,
          6,
          12,
          12,
          6,
          10,
          5,
          10,
          10,
          6,
          3,
          5,
          1,
          11,
          5,
          8,
          2,
          1,
          12,
          2,
          8,
          11,
          4,
          7,
          4,
          8,
          1,
          7,
          4,
          11,
          7,
          3,
          12,
          12,
          6,
          3,
          11,
          5,
          10,
          9,
          2,
          6,
          12,
          1,
          2,
          7,
          7,
          6,
          6,
          1,
          9,
          10,
          2,
          5,
          2,
          11,
          8,
          3,
          1,
          6,
          10,
          11,
          7,
          1,
          11,
          6,
          10,
          4,
          6,
          5,
          1,
          10,
          9,
          1,
          4,
          7,
          7,
          6,
          11,
          12,
          8,
          8,
          12,
          7,
          4,
          10,
          8,
          9,
          8,
          7,
          9,
          8,
          6,
          3,
          2,
          11,
          5,
          6,
          3,
          12,
          7,
          4,
          3,
          6,
          11,
          5,
          7,
          12,
          6,
          12,
          5,
          6,
          1,
          5,
          7,
          4,
          5,
          4,
          8,
          8,
          1,
          5,
          12,
          2,
          11,
          7,
          4,
          11,
          12,
          6,
          5,
          9,
          6,
          10,
          1,
          11,
          8,
          11,
          12,
          6,
          1,
          5,
          6,
          8,
          2,
          6,
          1,
          10,
          11,
          1,
          6,
          10,
          5,
          3,
          1,
          3,
          3,
          7,
          12,
          12,
          7,
          7,
          9,
          9,
          8,
          1,
          7,
          10,
          1,
          3,
          4,
          8,
          5,
          5,
          3,
          10,
          2,
          4,
          6,
          9,
          7,
          8,
          4,
          12,
          3,
          1,
          6,
          7,
          8,
          7,
          11,
          3,
          10,
          11,
          7,
          3,
          3,
          12,
          8,
          8,
          9,
          4,
          3,
          11,
          11,
          9,
          5,
          12,
          12,
          8,
          2,
          10,
          1,
          5,
          12,
          7,
          2,
          11,
          4,
          10,
          8,
          8,
          7,
          7,
          8,
          4,
          12,
          12,
          10,
          5,
          10,
          4,
          8,
          12,
          9,
          7,
          2,
          12,
          10,
          3,
          11,
          1,
          12,
          5,
          4,
          10,
          9,
          8,
          5,
          4,
          10,
          12,
          9,
          9,
          1,
          8,
          7,
          5,
          4,
          3,
          6,
          1,
          1,
          9,
          9,
          8,
          11,
          7,
          7,
          11,
          11,
          10,
          4,
          2,
          10,
          6,
          11,
          7,
          8,
          4,
          10,
          4,
          2,
          4,
          6,
          7,
          3,
          3,
          2,
          2,
          2,
          3,
          9,
          4,
          1,
          9,
          3,
          5,
          4,
          7,
          4,
          8,
          8,
          2,
          3,
          4,
          5,
          5,
          10,
          12,
          7,
          10,
          8,
          6,
          1,
          9,
          1,
          12,
          7,
          2,
          4,
          5,
          5,
          4,
          4,
          1,
          8,
          11,
          11,
          7,
          3,
          12,
          7,
          7,
          8,
          8,
          7,
          7,
          5,
          7,
          4,
          9,
          2,
          12,
          6,
          4,
          6,
          8,
          3,
          12,
          9,
          5,
          12,
          5,
          4,
          8,
          6,
          11,
          9,
          11,
          5,
          6,
          12,
          8,
          7,
          9,
          6,
          2,
          12,
          10,
          3,
          10,
          10,
          2,
          12,
          7,
          6,
          10,
          12,
          11,
          9,
          1,
          5,
          2,
          9,
          6,
          8,
          12,
          12,
          9,
          2,
          8,
          5,
          8,
          10,
          11,
          1,
          5,
          6,
          10,
          7,
          4,
          11,
          4,
          5,
          12,
          9,
          9,
          7,
          1,
          2,
          3,
          9,
          1,
          5,
          2,
          8,
          3,
          1,
          5,
          1,
          1,
          8,
          10,
          9,
          1,
          9,
          7,
          8,
          3,
          5,
          6,
          2,
          4,
          12,
          11,
          12,
          7,
          2,
          9,
          12,
          2,
          12,
          9,
          9,
          9,
          9,
          7,
          5,
          1,
          3,
          1,
          5,
          12,
          7,
          8,
          10,
          5,
          2,
          4,
          1,
          4,
          11,
          10,
          5,
          5,
          9,
          9,
          7,
          7,
          1,
          10,
          1,
          12,
          8,
          7,
          11,
          4,
          3,
          8,
          9,
          5,
          7,
          11,
          9,
          2,
          11,
          4,
          4,
          4,
          3,
          3,
          6,
          8,
          5,
          6,
          4,
          6,
          4,
          4,
          2,
          10,
          4,
          10,
          7,
          5,
          9,
          12,
          12,
          8,
          3,
          1,
          10,
          8,
          10,
          6,
          1,
          3,
          9,
          6,
          11,
          11,
          3,
          10,
          3,
          12,
          2,
          9,
          9,
          11,
          4,
          1,
          11,
          11,
          10,
          1,
          4,
          6,
          2,
          1,
          5,
          6,
          6,
          12,
          2,
          12,
          8,
          8,
          1,
          12,
          12,
          9,
          3,
          7,
          12,
          11,
          4,
          6,
          4,
          4,
          2,
          1,
          2,
          6,
          6,
          6,
          5,
          1,
          5,
          4,
          10,
          9,
          8,
          8,
          2,
          8,
          4,
          6,
          12,
          2,
          7,
          12,
          8,
          2,
          3,
          4,
          3,
          10,
          1,
          5,
          10,
          10,
          6,
          1,
          3,
          4,
          3,
          6,
          11,
          4,
          10,
          5,
          1,
          12,
          10,
          11,
          3,
          10,
          7,
          11,
          12,
          11,
          12,
          6,
          9,
          6,
          2,
          6,
          6,
          3,
          5,
          4,
          4,
          5,
          5,
          7,
          2,
          4,
          7,
          8,
          12,
          7,
          1,
          10,
          3,
          12,
          10,
          8,
          10,
          2,
          5,
          8,
          11,
          7,
          2,
          4,
          6,
          3,
          9,
          11,
          5,
          3,
          2,
          1,
          1,
          7,
          7,
          7,
          12,
          8,
          1,
          5,
          6,
          12,
          8,
          3,
          2,
          10,
          8,
          5,
          6,
          4,
          9,
          12,
          10,
          2,
          2,
          9,
          7,
          2,
          4,
          11,
          3,
          10,
          3,
          10,
          2,
          3,
          1,
          6,
          1,
          4,
          12,
          8,
          9,
          12,
          6,
          9,
          1,
          6,
          8,
          8,
          5,
          12,
          11,
          11,
          11,
          6,
          11,
          1,
          12,
          9,
          2,
          2,
          2,
          11,
          11,
          6,
          3,
          12,
          7,
          1,
          11,
          6,
          4,
          6,
          11,
          5,
          10,
          8,
          9,
          1,
          8,
          11,
          5,
          5,
          2,
          3,
          7,
          4,
          1,
          1,
          6,
          8,
          8,
          10,
          12,
          9,
          10,
          6,
          4,
          4,
          12,
          7,
          1,
          11,
          7,
          9,
          3,
          11,
          9,
          12,
          12,
          2,
          8,
          8,
          11,
          4,
          6,
          1,
          9,
          1,
          4,
          10,
          6,
          3,
          1,
          2,
          11,
          2,
          2,
          9,
          1,
          9,
          7,
          6,
          5,
          8,
          8,
          5,
          3,
          8,
          3,
          5,
          2,
          7,
          8,
          9,
          1,
          6,
          6,
          6,
          10,
          4,
          2,
          1,
          2,
          6,
          12,
          8,
          6,
          3,
          9,
          7,
          5,
          4,
          7,
          9,
          12,
          1,
          2,
          8,
          4,
          7,
          4,
          12,
          5,
          1,
          9,
          10,
          6,
          5,
          2,
          4,
          6,
          9,
          8,
          5,
          5,
          10,
          12,
          1,
          5,
          5,
          4,
          12,
          7,
          4,
          11,
          10,
          1,
          11,
          2,
          1,
          2,
          4,
          5,
          8,
          7,
          11,
          7,
          11,
          12,
          4,
          4,
          7,
          1,
          8,
          2,
          7,
          6,
          9,
          12,
          3,
          5,
          2,
          9,
          5,
          8,
          11,
          11,
          10,
          4,
          10,
          7,
          10,
          3,
          7,
          6,
          3,
          2,
          6,
          2,
          12,
          7,
          11,
          2,
          2,
          12,
          8,
          4,
          6,
          4,
          5,
          5,
          7,
          6,
          12,
          7,
          1,
          11,
          7,
          5,
          10,
          3,
          2,
          5,
          3,
          5,
          11,
          6,
          12,
          9,
          4,
          9,
          1,
          6,
          5,
          8,
          12,
          3,
          6,
          5,
          12,
          9,
          3,
          9,
          12,
          4,
          10,
          4,
          8,
          1,
          12,
          9,
          5,
          10,
          12,
          2,
          10,
          11,
          10,
          3,
          9,
          3,
          3,
          11,
          10,
          11,
          9,
          5,
          8,
          6,
          6,
          6,
          4,
          7,
          2,
          6,
          8,
          11,
          10,
          10,
          3,
          1,
          12,
          8,
          3,
          2,
          7,
          9,
          6,
          6,
          5,
          10,
          11,
          7,
          2,
          8,
          1,
          5,
          12,
          7,
          3,
          6,
          3,
          3,
          2,
          7,
          4,
          10,
          3,
          6,
          12,
          5,
          9,
          5,
          2,
          1,
          8,
          1,
          8,
          8,
          12,
          7,
          10,
          12,
          4,
          4,
          5,
          1,
          7,
          8,
          1,
          3,
          12,
          1,
          9,
          11,
          7,
          11,
          12,
          10,
          11,
          3,
          9,
          8,
          5,
          9,
          8,
          3,
          7,
          5,
          9,
          5,
          12,
          4,
          8,
          11,
          11,
          8,
          1,
          2,
          1,
          4,
          3,
          7,
          8,
          4,
          7,
          7,
          4,
          5,
          8,
          11,
          2,
          4,
          9,
          2,
          9,
          6,
          2,
          11,
          6,
          10,
          3,
          9,
          5,
          4,
          1,
          6,
          12,
          5,
          8,
          8,
          6,
          1,
          3,
          6,
          6,
          9,
          2,
          3,
          1,
          10,
          11,
          4,
          2,
          6,
          9,
          11,
          12,
          5,
          4,
          9,
          5,
          1,
          11,
          2,
          9,
          3,
          1,
          11,
          7,
          6,
          5,
          4,
          6,
          11,
          6,
          10,
          12,
          3,
          6,
          9,
          10,
          2,
          2,
          9,
          6,
          6,
          1,
          9,
          5,
          5,
          2,
          7,
          5,
          4,
          7,
          6,
          6,
          4,
          2,
          8,
          3,
          8,
          5,
          9,
          6,
          2,
          4,
          11,
          9,
          8,
          6,
          12,
          5,
          10,
          8,
          1,
          1,
          11,
          7,
          5,
          12,
          7,
          12,
          11,
          2,
          12,
          12,
          3,
          10,
          7,
          4,
          12,
          8,
          1,
          8,
          4,
          1,
          6,
          12,
          10,
          4,
          1,
          7,
          4,
          8,
          12,
          11,
          6,
          6,
          5,
          5,
          3,
          1,
          12,
          10,
          6,
          12,
          6,
          12,
          4,
          5,
          6,
          11,
          8,
          4,
          6,
          12,
          11,
          11,
          5,
          8,
          3,
          3,
          10,
          9,
          12,
          10,
          4,
          4,
          11,
          12,
          5,
          6,
          5,
          10,
          10,
          6,
          6,
          8,
          3,
          12,
          5,
          2,
          6,
          11,
          9,
          1,
          9,
          9,
          7,
          3,
          5,
          1,
          4,
          1,
          3,
          7,
          3,
          7,
          6,
          12,
          9,
          10,
          4,
          3,
          3,
          2,
          9,
          11,
          8,
          2,
          6,
          12,
          5,
          10,
          2,
          11,
          2,
          3,
          7,
          6,
          1,
          2,
          12,
          1,
          1,
          12,
          7,
          1,
          10,
          8,
          2,
          1,
          7,
          8,
          6,
          4,
          5,
          7,
          12,
          4,
          12,
          5,
          4,
          2,
          5,
          9,
          7,
          1,
          11,
          8,
          9,
          1,
          9,
          7,
          8,
          5,
          3,
          3,
          5,
          6,
          2,
          9,
          5,
          7,
          12,
          10,
          12,
          9,
          4,
          10,
          4,
          3,
          9,
          9,
          7,
          3,
          1,
          10,
          5,
          2,
          5
         ],
         "xaxis": "x",
         "yaxis": "y"
        },
        {
         "alignmentgroup": "True",
         "bingroup": "x",
         "hovertemplate": "status=canceled<br>month=%{x}<br>count=%{y}<extra></extra>",
         "legendgroup": "canceled",
         "marker": {
          "color": "#EF553B",
          "pattern": {
           "shape": ""
          }
         },
         "name": "canceled",
         "offsetgroup": "canceled",
         "orientation": "v",
         "showlegend": true,
         "texttemplate": "%{value}",
         "type": "histogram",
         "x": [
          9,
          11,
          4,
          11,
          1,
          11,
          9,
          4,
          2,
          4,
          7,
          1,
          4,
          1,
          8,
          4,
          10,
          8,
          11,
          6,
          9,
          6,
          11,
          12,
          8,
          10,
          11,
          12,
          4,
          8,
          4,
          11,
          10,
          1,
          4,
          7,
          8,
          6,
          11,
          6,
          4,
          3,
          7,
          9,
          5,
          6,
          4,
          12,
          2,
          8,
          9,
          9,
          7,
          8,
          6,
          3,
          7,
          6,
          11,
          2,
          2,
          10,
          11,
          2,
          4,
          5,
          2,
          10,
          5,
          5,
          4,
          7,
          4,
          3,
          3,
          9,
          6,
          2,
          12,
          10,
          1,
          9,
          3,
          1,
          7,
          8,
          2,
          1,
          7,
          5,
          7,
          4,
          10,
          5,
          9,
          4,
          5,
          3,
          11,
          1,
          4,
          5,
          11,
          6
         ],
         "xaxis": "x",
         "yaxis": "y"
        },
        {
         "alignmentgroup": "True",
         "bingroup": "x",
         "hovertemplate": "status=paused<br>month=%{x}<br>count=%{y}<extra></extra>",
         "legendgroup": "paused",
         "marker": {
          "color": "#00cc96",
          "pattern": {
           "shape": ""
          }
         },
         "name": "paused",
         "offsetgroup": "paused",
         "orientation": "v",
         "showlegend": true,
         "texttemplate": "%{value}",
         "type": "histogram",
         "x": [
          1,
          10,
          7,
          8,
          11,
          1,
          6,
          7,
          10,
          12,
          10,
          12,
          12,
          8,
          4,
          1,
          6,
          5,
          5,
          1,
          3,
          8,
          10,
          2,
          1,
          2,
          10,
          8,
          2,
          11,
          9,
          4,
          6,
          2,
          8,
          11,
          10,
          10,
          4,
          8,
          3,
          12,
          2,
          5,
          1,
          12,
          4,
          4,
          9,
          3,
          1,
          7,
          5,
          10,
          1,
          6,
          8,
          7,
          1,
          3,
          6,
          2,
          10,
          3,
          2,
          10,
          11,
          7,
          11,
          7,
          2,
          9,
          1,
          7,
          1,
          5,
          7,
          2,
          10,
          10,
          9,
          5,
          12,
          2,
          11,
          10,
          2,
          11,
          1,
          6,
          7,
          10,
          6,
          9,
          9,
          7,
          3,
          8,
          9,
          12,
          3,
          11,
          3,
          10,
          3,
          10,
          2,
          8,
          3,
          10,
          11,
          7,
          2,
          9,
          8,
          4,
          6,
          5,
          4,
          5,
          4,
          12,
          5,
          11,
          6,
          10,
          6,
          11,
          8,
          7,
          7,
          6,
          3,
          4,
          6,
          10,
          7,
          6,
          6,
          3,
          12,
          1,
          9,
          4,
          9,
          7,
          6,
          4,
          10,
          3,
          3,
          10,
          5,
          7,
          4,
          7,
          2,
          10,
          6,
          5,
          6,
          7,
          7,
          2,
          2,
          8,
          2,
          5,
          10,
          2,
          11,
          4,
          11,
          1,
          2,
          1,
          5,
          12,
          12,
          3,
          11,
          9
         ],
         "xaxis": "x",
         "yaxis": "y"
        }
       ],
       "layout": {
        "barmode": "relative",
        "legend": {
         "title": {
          "text": "status"
         },
         "tracegroupgap": 0
        },
        "margin": {
         "t": 60
        },
        "template": {
         "data": {
          "bar": [
           {
            "error_x": {
             "color": "#2a3f5f"
            },
            "error_y": {
             "color": "#2a3f5f"
            },
            "marker": {
             "line": {
              "color": "#E5ECF6",
              "width": 0.5
             },
             "pattern": {
              "fillmode": "overlay",
              "size": 10,
              "solidity": 0.2
             }
            },
            "type": "bar"
           }
          ],
          "barpolar": [
           {
            "marker": {
             "line": {
              "color": "#E5ECF6",
              "width": 0.5
             },
             "pattern": {
              "fillmode": "overlay",
              "size": 10,
              "solidity": 0.2
             }
            },
            "type": "barpolar"
           }
          ],
          "carpet": [
           {
            "aaxis": {
             "endlinecolor": "#2a3f5f",
             "gridcolor": "white",
             "linecolor": "white",
             "minorgridcolor": "white",
             "startlinecolor": "#2a3f5f"
            },
            "baxis": {
             "endlinecolor": "#2a3f5f",
             "gridcolor": "white",
             "linecolor": "white",
             "minorgridcolor": "white",
             "startlinecolor": "#2a3f5f"
            },
            "type": "carpet"
           }
          ],
          "choropleth": [
           {
            "colorbar": {
             "outlinewidth": 0,
             "ticks": ""
            },
            "type": "choropleth"
           }
          ],
          "contour": [
           {
            "colorbar": {
             "outlinewidth": 0,
             "ticks": ""
            },
            "colorscale": [
             [
              0,
              "#0d0887"
             ],
             [
              0.1111111111111111,
              "#46039f"
             ],
             [
              0.2222222222222222,
              "#7201a8"
             ],
             [
              0.3333333333333333,
              "#9c179e"
             ],
             [
              0.4444444444444444,
              "#bd3786"
             ],
             [
              0.5555555555555556,
              "#d8576b"
             ],
             [
              0.6666666666666666,
              "#ed7953"
             ],
             [
              0.7777777777777778,
              "#fb9f3a"
             ],
             [
              0.8888888888888888,
              "#fdca26"
             ],
             [
              1,
              "#f0f921"
             ]
            ],
            "type": "contour"
           }
          ],
          "contourcarpet": [
           {
            "colorbar": {
             "outlinewidth": 0,
             "ticks": ""
            },
            "type": "contourcarpet"
           }
          ],
          "heatmap": [
           {
            "colorbar": {
             "outlinewidth": 0,
             "ticks": ""
            },
            "colorscale": [
             [
              0,
              "#0d0887"
             ],
             [
              0.1111111111111111,
              "#46039f"
             ],
             [
              0.2222222222222222,
              "#7201a8"
             ],
             [
              0.3333333333333333,
              "#9c179e"
             ],
             [
              0.4444444444444444,
              "#bd3786"
             ],
             [
              0.5555555555555556,
              "#d8576b"
             ],
             [
              0.6666666666666666,
              "#ed7953"
             ],
             [
              0.7777777777777778,
              "#fb9f3a"
             ],
             [
              0.8888888888888888,
              "#fdca26"
             ],
             [
              1,
              "#f0f921"
             ]
            ],
            "type": "heatmap"
           }
          ],
          "heatmapgl": [
           {
            "colorbar": {
             "outlinewidth": 0,
             "ticks": ""
            },
            "colorscale": [
             [
              0,
              "#0d0887"
             ],
             [
              0.1111111111111111,
              "#46039f"
             ],
             [
              0.2222222222222222,
              "#7201a8"
             ],
             [
              0.3333333333333333,
              "#9c179e"
             ],
             [
              0.4444444444444444,
              "#bd3786"
             ],
             [
              0.5555555555555556,
              "#d8576b"
             ],
             [
              0.6666666666666666,
              "#ed7953"
             ],
             [
              0.7777777777777778,
              "#fb9f3a"
             ],
             [
              0.8888888888888888,
              "#fdca26"
             ],
             [
              1,
              "#f0f921"
             ]
            ],
            "type": "heatmapgl"
           }
          ],
          "histogram": [
           {
            "marker": {
             "pattern": {
              "fillmode": "overlay",
              "size": 10,
              "solidity": 0.2
             }
            },
            "type": "histogram"
           }
          ],
          "histogram2d": [
           {
            "colorbar": {
             "outlinewidth": 0,
             "ticks": ""
            },
            "colorscale": [
             [
              0,
              "#0d0887"
             ],
             [
              0.1111111111111111,
              "#46039f"
             ],
             [
              0.2222222222222222,
              "#7201a8"
             ],
             [
              0.3333333333333333,
              "#9c179e"
             ],
             [
              0.4444444444444444,
              "#bd3786"
             ],
             [
              0.5555555555555556,
              "#d8576b"
             ],
             [
              0.6666666666666666,
              "#ed7953"
             ],
             [
              0.7777777777777778,
              "#fb9f3a"
             ],
             [
              0.8888888888888888,
              "#fdca26"
             ],
             [
              1,
              "#f0f921"
             ]
            ],
            "type": "histogram2d"
           }
          ],
          "histogram2dcontour": [
           {
            "colorbar": {
             "outlinewidth": 0,
             "ticks": ""
            },
            "colorscale": [
             [
              0,
              "#0d0887"
             ],
             [
              0.1111111111111111,
              "#46039f"
             ],
             [
              0.2222222222222222,
              "#7201a8"
             ],
             [
              0.3333333333333333,
              "#9c179e"
             ],
             [
              0.4444444444444444,
              "#bd3786"
             ],
             [
              0.5555555555555556,
              "#d8576b"
             ],
             [
              0.6666666666666666,
              "#ed7953"
             ],
             [
              0.7777777777777778,
              "#fb9f3a"
             ],
             [
              0.8888888888888888,
              "#fdca26"
             ],
             [
              1,
              "#f0f921"
             ]
            ],
            "type": "histogram2dcontour"
           }
          ],
          "mesh3d": [
           {
            "colorbar": {
             "outlinewidth": 0,
             "ticks": ""
            },
            "type": "mesh3d"
           }
          ],
          "parcoords": [
           {
            "line": {
             "colorbar": {
              "outlinewidth": 0,
              "ticks": ""
             }
            },
            "type": "parcoords"
           }
          ],
          "pie": [
           {
            "automargin": true,
            "type": "pie"
           }
          ],
          "scatter": [
           {
            "fillpattern": {
             "fillmode": "overlay",
             "size": 10,
             "solidity": 0.2
            },
            "type": "scatter"
           }
          ],
          "scatter3d": [
           {
            "line": {
             "colorbar": {
              "outlinewidth": 0,
              "ticks": ""
             }
            },
            "marker": {
             "colorbar": {
              "outlinewidth": 0,
              "ticks": ""
             }
            },
            "type": "scatter3d"
           }
          ],
          "scattercarpet": [
           {
            "marker": {
             "colorbar": {
              "outlinewidth": 0,
              "ticks": ""
             }
            },
            "type": "scattercarpet"
           }
          ],
          "scattergeo": [
           {
            "marker": {
             "colorbar": {
              "outlinewidth": 0,
              "ticks": ""
             }
            },
            "type": "scattergeo"
           }
          ],
          "scattergl": [
           {
            "marker": {
             "colorbar": {
              "outlinewidth": 0,
              "ticks": ""
             }
            },
            "type": "scattergl"
           }
          ],
          "scattermapbox": [
           {
            "marker": {
             "colorbar": {
              "outlinewidth": 0,
              "ticks": ""
             }
            },
            "type": "scattermapbox"
           }
          ],
          "scatterpolar": [
           {
            "marker": {
             "colorbar": {
              "outlinewidth": 0,
              "ticks": ""
             }
            },
            "type": "scatterpolar"
           }
          ],
          "scatterpolargl": [
           {
            "marker": {
             "colorbar": {
              "outlinewidth": 0,
              "ticks": ""
             }
            },
            "type": "scatterpolargl"
           }
          ],
          "scatterternary": [
           {
            "marker": {
             "colorbar": {
              "outlinewidth": 0,
              "ticks": ""
             }
            },
            "type": "scatterternary"
           }
          ],
          "surface": [
           {
            "colorbar": {
             "outlinewidth": 0,
             "ticks": ""
            },
            "colorscale": [
             [
              0,
              "#0d0887"
             ],
             [
              0.1111111111111111,
              "#46039f"
             ],
             [
              0.2222222222222222,
              "#7201a8"
             ],
             [
              0.3333333333333333,
              "#9c179e"
             ],
             [
              0.4444444444444444,
              "#bd3786"
             ],
             [
              0.5555555555555556,
              "#d8576b"
             ],
             [
              0.6666666666666666,
              "#ed7953"
             ],
             [
              0.7777777777777778,
              "#fb9f3a"
             ],
             [
              0.8888888888888888,
              "#fdca26"
             ],
             [
              1,
              "#f0f921"
             ]
            ],
            "type": "surface"
           }
          ],
          "table": [
           {
            "cells": {
             "fill": {
              "color": "#EBF0F8"
             },
             "line": {
              "color": "white"
             }
            },
            "header": {
             "fill": {
              "color": "#C8D4E3"
             },
             "line": {
              "color": "white"
             }
            },
            "type": "table"
           }
          ]
         },
         "layout": {
          "annotationdefaults": {
           "arrowcolor": "#2a3f5f",
           "arrowhead": 0,
           "arrowwidth": 1
          },
          "autotypenumbers": "strict",
          "coloraxis": {
           "colorbar": {
            "outlinewidth": 0,
            "ticks": ""
           }
          },
          "colorscale": {
           "diverging": [
            [
             0,
             "#8e0152"
            ],
            [
             0.1,
             "#c51b7d"
            ],
            [
             0.2,
             "#de77ae"
            ],
            [
             0.3,
             "#f1b6da"
            ],
            [
             0.4,
             "#fde0ef"
            ],
            [
             0.5,
             "#f7f7f7"
            ],
            [
             0.6,
             "#e6f5d0"
            ],
            [
             0.7,
             "#b8e186"
            ],
            [
             0.8,
             "#7fbc41"
            ],
            [
             0.9,
             "#4d9221"
            ],
            [
             1,
             "#276419"
            ]
           ],
           "sequential": [
            [
             0,
             "#0d0887"
            ],
            [
             0.1111111111111111,
             "#46039f"
            ],
            [
             0.2222222222222222,
             "#7201a8"
            ],
            [
             0.3333333333333333,
             "#9c179e"
            ],
            [
             0.4444444444444444,
             "#bd3786"
            ],
            [
             0.5555555555555556,
             "#d8576b"
            ],
            [
             0.6666666666666666,
             "#ed7953"
            ],
            [
             0.7777777777777778,
             "#fb9f3a"
            ],
            [
             0.8888888888888888,
             "#fdca26"
            ],
            [
             1,
             "#f0f921"
            ]
           ],
           "sequentialminus": [
            [
             0,
             "#0d0887"
            ],
            [
             0.1111111111111111,
             "#46039f"
            ],
            [
             0.2222222222222222,
             "#7201a8"
            ],
            [
             0.3333333333333333,
             "#9c179e"
            ],
            [
             0.4444444444444444,
             "#bd3786"
            ],
            [
             0.5555555555555556,
             "#d8576b"
            ],
            [
             0.6666666666666666,
             "#ed7953"
            ],
            [
             0.7777777777777778,
             "#fb9f3a"
            ],
            [
             0.8888888888888888,
             "#fdca26"
            ],
            [
             1,
             "#f0f921"
            ]
           ]
          },
          "colorway": [
           "#636efa",
           "#EF553B",
           "#00cc96",
           "#ab63fa",
           "#FFA15A",
           "#19d3f3",
           "#FF6692",
           "#B6E880",
           "#FF97FF",
           "#FECB52"
          ],
          "font": {
           "color": "#2a3f5f"
          },
          "geo": {
           "bgcolor": "white",
           "lakecolor": "white",
           "landcolor": "#E5ECF6",
           "showlakes": true,
           "showland": true,
           "subunitcolor": "white"
          },
          "hoverlabel": {
           "align": "left"
          },
          "hovermode": "closest",
          "mapbox": {
           "style": "light"
          },
          "paper_bgcolor": "white",
          "plot_bgcolor": "#E5ECF6",
          "polar": {
           "angularaxis": {
            "gridcolor": "white",
            "linecolor": "white",
            "ticks": ""
           },
           "bgcolor": "#E5ECF6",
           "radialaxis": {
            "gridcolor": "white",
            "linecolor": "white",
            "ticks": ""
           }
          },
          "scene": {
           "xaxis": {
            "backgroundcolor": "#E5ECF6",
            "gridcolor": "white",
            "gridwidth": 2,
            "linecolor": "white",
            "showbackground": true,
            "ticks": "",
            "zerolinecolor": "white"
           },
           "yaxis": {
            "backgroundcolor": "#E5ECF6",
            "gridcolor": "white",
            "gridwidth": 2,
            "linecolor": "white",
            "showbackground": true,
            "ticks": "",
            "zerolinecolor": "white"
           },
           "zaxis": {
            "backgroundcolor": "#E5ECF6",
            "gridcolor": "white",
            "gridwidth": 2,
            "linecolor": "white",
            "showbackground": true,
            "ticks": "",
            "zerolinecolor": "white"
           }
          },
          "shapedefaults": {
           "line": {
            "color": "#2a3f5f"
           }
          },
          "ternary": {
           "aaxis": {
            "gridcolor": "white",
            "linecolor": "white",
            "ticks": ""
           },
           "baxis": {
            "gridcolor": "white",
            "linecolor": "white",
            "ticks": ""
           },
           "bgcolor": "#E5ECF6",
           "caxis": {
            "gridcolor": "white",
            "linecolor": "white",
            "ticks": ""
           }
          },
          "title": {
           "x": 0.05
          },
          "xaxis": {
           "automargin": true,
           "gridcolor": "white",
           "linecolor": "white",
           "ticks": "",
           "title": {
            "standoff": 15
           },
           "zerolinecolor": "white",
           "zerolinewidth": 2
          },
          "yaxis": {
           "automargin": true,
           "gridcolor": "white",
           "linecolor": "white",
           "ticks": "",
           "title": {
            "standoff": 15
           },
           "zerolinecolor": "white",
           "zerolinewidth": 2
          }
         }
        },
        "title": {
         "text": "Relação de status por mês (ANO 2020)"
        },
        "xaxis": {
         "anchor": "y",
         "domain": [
          0,
          1
         ],
         "title": {
          "text": "month"
         }
        },
        "yaxis": {
         "anchor": "x",
         "domain": [
          0,
          1
         ],
         "title": {
          "text": "count"
         }
        }
       }
      },
      "text/html": [
       "<div>                            <div id=\"d4b33577-5ff8-407f-8211-cafd1b7a560d\" class=\"plotly-graph-div\" style=\"height:525px; width:100%;\"></div>            <script type=\"text/javascript\">                require([\"plotly\"], function(Plotly) {                    window.PLOTLYENV=window.PLOTLYENV || {};                                    if (document.getElementById(\"d4b33577-5ff8-407f-8211-cafd1b7a560d\")) {                    Plotly.newPlot(                        \"d4b33577-5ff8-407f-8211-cafd1b7a560d\",                        [{\"alignmentgroup\":\"True\",\"bingroup\":\"x\",\"hovertemplate\":\"status=active<br>month=%{x}<br>count=%{y}<extra></extra>\",\"legendgroup\":\"active\",\"marker\":{\"color\":\"#636efa\",\"pattern\":{\"shape\":\"\"}},\"name\":\"active\",\"offsetgroup\":\"active\",\"orientation\":\"v\",\"showlegend\":true,\"texttemplate\":\"%{value}\",\"x\":[3,5,9,8,3,7,3,6,10,3,1,3,7,6,6,4,9,3,11,4,8,6,12,7,7,6,11,7,11,4,4,7,8,12,6,11,4,10,10,8,9,7,11,6,12,8,2,2,4,10,2,7,7,7,4,4,10,4,5,12,2,11,9,12,10,11,2,8,10,11,12,2,3,8,9,7,3,10,10,8,4,8,1,4,3,5,6,3,3,10,9,11,7,12,12,6,7,9,2,5,11,10,9,1,2,8,3,2,8,2,4,2,3,10,9,1,6,6,9,3,3,3,1,3,6,9,5,7,10,6,2,2,5,4,8,7,8,4,2,5,2,5,5,6,8,9,7,7,7,1,6,4,2,4,10,8,5,10,12,8,8,7,1,1,4,7,2,12,6,3,12,10,3,7,9,6,12,1,8,7,1,4,1,5,3,11,5,2,4,11,5,5,4,10,9,9,4,10,10,4,1,10,5,8,7,3,7,10,11,7,8,7,3,1,6,11,7,2,7,9,7,2,7,6,3,1,6,7,12,10,4,4,5,9,1,4,10,7,11,9,4,1,10,6,9,12,9,3,4,3,10,3,2,1,6,1,1,5,4,4,1,6,6,4,3,3,9,1,8,12,10,12,4,1,2,12,10,1,12,7,4,4,6,7,10,3,9,6,7,12,12,12,4,8,5,1,5,4,2,3,7,2,2,8,6,8,1,3,12,10,6,7,7,3,2,6,2,12,2,8,3,12,3,12,6,12,12,6,10,5,10,10,6,3,5,1,11,5,8,2,1,12,2,8,11,4,7,4,8,1,7,4,11,7,3,12,12,6,3,11,5,10,9,2,6,12,1,2,7,7,6,6,1,9,10,2,5,2,11,8,3,1,6,10,11,7,1,11,6,10,4,6,5,1,10,9,1,4,7,7,6,11,12,8,8,12,7,4,10,8,9,8,7,9,8,6,3,2,11,5,6,3,12,7,4,3,6,11,5,7,12,6,12,5,6,1,5,7,4,5,4,8,8,1,5,12,2,11,7,4,11,12,6,5,9,6,10,1,11,8,11,12,6,1,5,6,8,2,6,1,10,11,1,6,10,5,3,1,3,3,7,12,12,7,7,9,9,8,1,7,10,1,3,4,8,5,5,3,10,2,4,6,9,7,8,4,12,3,1,6,7,8,7,11,3,10,11,7,3,3,12,8,8,9,4,3,11,11,9,5,12,12,8,2,10,1,5,12,7,2,11,4,10,8,8,7,7,8,4,12,12,10,5,10,4,8,12,9,7,2,12,10,3,11,1,12,5,4,10,9,8,5,4,10,12,9,9,1,8,7,5,4,3,6,1,1,9,9,8,11,7,7,11,11,10,4,2,10,6,11,7,8,4,10,4,2,4,6,7,3,3,2,2,2,3,9,4,1,9,3,5,4,7,4,8,8,2,3,4,5,5,10,12,7,10,8,6,1,9,1,12,7,2,4,5,5,4,4,1,8,11,11,7,3,12,7,7,8,8,7,7,5,7,4,9,2,12,6,4,6,8,3,12,9,5,12,5,4,8,6,11,9,11,5,6,12,8,7,9,6,2,12,10,3,10,10,2,12,7,6,10,12,11,9,1,5,2,9,6,8,12,12,9,2,8,5,8,10,11,1,5,6,10,7,4,11,4,5,12,9,9,7,1,2,3,9,1,5,2,8,3,1,5,1,1,8,10,9,1,9,7,8,3,5,6,2,4,12,11,12,7,2,9,12,2,12,9,9,9,9,7,5,1,3,1,5,12,7,8,10,5,2,4,1,4,11,10,5,5,9,9,7,7,1,10,1,12,8,7,11,4,3,8,9,5,7,11,9,2,11,4,4,4,3,3,6,8,5,6,4,6,4,4,2,10,4,10,7,5,9,12,12,8,3,1,10,8,10,6,1,3,9,6,11,11,3,10,3,12,2,9,9,11,4,1,11,11,10,1,4,6,2,1,5,6,6,12,2,12,8,8,1,12,12,9,3,7,12,11,4,6,4,4,2,1,2,6,6,6,5,1,5,4,10,9,8,8,2,8,4,6,12,2,7,12,8,2,3,4,3,10,1,5,10,10,6,1,3,4,3,6,11,4,10,5,1,12,10,11,3,10,7,11,12,11,12,6,9,6,2,6,6,3,5,4,4,5,5,7,2,4,7,8,12,7,1,10,3,12,10,8,10,2,5,8,11,7,2,4,6,3,9,11,5,3,2,1,1,7,7,7,12,8,1,5,6,12,8,3,2,10,8,5,6,4,9,12,10,2,2,9,7,2,4,11,3,10,3,10,2,3,1,6,1,4,12,8,9,12,6,9,1,6,8,8,5,12,11,11,11,6,11,1,12,9,2,2,2,11,11,6,3,12,7,1,11,6,4,6,11,5,10,8,9,1,8,11,5,5,2,3,7,4,1,1,6,8,8,10,12,9,10,6,4,4,12,7,1,11,7,9,3,11,9,12,12,2,8,8,11,4,6,1,9,1,4,10,6,3,1,2,11,2,2,9,1,9,7,6,5,8,8,5,3,8,3,5,2,7,8,9,1,6,6,6,10,4,2,1,2,6,12,8,6,3,9,7,5,4,7,9,12,1,2,8,4,7,4,12,5,1,9,10,6,5,2,4,6,9,8,5,5,10,12,1,5,5,4,12,7,4,11,10,1,11,2,1,2,4,5,8,7,11,7,11,12,4,4,7,1,8,2,7,6,9,12,3,5,2,9,5,8,11,11,10,4,10,7,10,3,7,6,3,2,6,2,12,7,11,2,2,12,8,4,6,4,5,5,7,6,12,7,1,11,7,5,10,3,2,5,3,5,11,6,12,9,4,9,1,6,5,8,12,3,6,5,12,9,3,9,12,4,10,4,8,1,12,9,5,10,12,2,10,11,10,3,9,3,3,11,10,11,9,5,8,6,6,6,4,7,2,6,8,11,10,10,3,1,12,8,3,2,7,9,6,6,5,10,11,7,2,8,1,5,12,7,3,6,3,3,2,7,4,10,3,6,12,5,9,5,2,1,8,1,8,8,12,7,10,12,4,4,5,1,7,8,1,3,12,1,9,11,7,11,12,10,11,3,9,8,5,9,8,3,7,5,9,5,12,4,8,11,11,8,1,2,1,4,3,7,8,4,7,7,4,5,8,11,2,4,9,2,9,6,2,11,6,10,3,9,5,4,1,6,12,5,8,8,6,1,3,6,6,9,2,3,1,10,11,4,2,6,9,11,12,5,4,9,5,1,11,2,9,3,1,11,7,6,5,4,6,11,6,10,12,3,6,9,10,2,2,9,6,6,1,9,5,5,2,7,5,4,7,6,6,4,2,8,3,8,5,9,6,2,4,11,9,8,6,12,5,10,8,1,1,11,7,5,12,7,12,11,2,12,12,3,10,7,4,12,8,1,8,4,1,6,12,10,4,1,7,4,8,12,11,6,6,5,5,3,1,12,10,6,12,6,12,4,5,6,11,8,4,6,12,11,11,5,8,3,3,10,9,12,10,4,4,11,12,5,6,5,10,10,6,6,8,3,12,5,2,6,11,9,1,9,9,7,3,5,1,4,1,3,7,3,7,6,12,9,10,4,3,3,2,9,11,8,2,6,12,5,10,2,11,2,3,7,6,1,2,12,1,1,12,7,1,10,8,2,1,7,8,6,4,5,7,12,4,12,5,4,2,5,9,7,1,11,8,9,1,9,7,8,5,3,3,5,6,2,9,5,7,12,10,12,9,4,10,4,3,9,9,7,3,1,10,5,2,5],\"xaxis\":\"x\",\"yaxis\":\"y\",\"type\":\"histogram\"},{\"alignmentgroup\":\"True\",\"bingroup\":\"x\",\"hovertemplate\":\"status=canceled<br>month=%{x}<br>count=%{y}<extra></extra>\",\"legendgroup\":\"canceled\",\"marker\":{\"color\":\"#EF553B\",\"pattern\":{\"shape\":\"\"}},\"name\":\"canceled\",\"offsetgroup\":\"canceled\",\"orientation\":\"v\",\"showlegend\":true,\"texttemplate\":\"%{value}\",\"x\":[9,11,4,11,1,11,9,4,2,4,7,1,4,1,8,4,10,8,11,6,9,6,11,12,8,10,11,12,4,8,4,11,10,1,4,7,8,6,11,6,4,3,7,9,5,6,4,12,2,8,9,9,7,8,6,3,7,6,11,2,2,10,11,2,4,5,2,10,5,5,4,7,4,3,3,9,6,2,12,10,1,9,3,1,7,8,2,1,7,5,7,4,10,5,9,4,5,3,11,1,4,5,11,6],\"xaxis\":\"x\",\"yaxis\":\"y\",\"type\":\"histogram\"},{\"alignmentgroup\":\"True\",\"bingroup\":\"x\",\"hovertemplate\":\"status=paused<br>month=%{x}<br>count=%{y}<extra></extra>\",\"legendgroup\":\"paused\",\"marker\":{\"color\":\"#00cc96\",\"pattern\":{\"shape\":\"\"}},\"name\":\"paused\",\"offsetgroup\":\"paused\",\"orientation\":\"v\",\"showlegend\":true,\"texttemplate\":\"%{value}\",\"x\":[1,10,7,8,11,1,6,7,10,12,10,12,12,8,4,1,6,5,5,1,3,8,10,2,1,2,10,8,2,11,9,4,6,2,8,11,10,10,4,8,3,12,2,5,1,12,4,4,9,3,1,7,5,10,1,6,8,7,1,3,6,2,10,3,2,10,11,7,11,7,2,9,1,7,1,5,7,2,10,10,9,5,12,2,11,10,2,11,1,6,7,10,6,9,9,7,3,8,9,12,3,11,3,10,3,10,2,8,3,10,11,7,2,9,8,4,6,5,4,5,4,12,5,11,6,10,6,11,8,7,7,6,3,4,6,10,7,6,6,3,12,1,9,4,9,7,6,4,10,3,3,10,5,7,4,7,2,10,6,5,6,7,7,2,2,8,2,5,10,2,11,4,11,1,2,1,5,12,12,3,11,9],\"xaxis\":\"x\",\"yaxis\":\"y\",\"type\":\"histogram\"}],                        {\"template\":{\"data\":{\"histogram2dcontour\":[{\"type\":\"histogram2dcontour\",\"colorbar\":{\"outlinewidth\":0,\"ticks\":\"\"},\"colorscale\":[[0.0,\"#0d0887\"],[0.1111111111111111,\"#46039f\"],[0.2222222222222222,\"#7201a8\"],[0.3333333333333333,\"#9c179e\"],[0.4444444444444444,\"#bd3786\"],[0.5555555555555556,\"#d8576b\"],[0.6666666666666666,\"#ed7953\"],[0.7777777777777778,\"#fb9f3a\"],[0.8888888888888888,\"#fdca26\"],[1.0,\"#f0f921\"]]}],\"choropleth\":[{\"type\":\"choropleth\",\"colorbar\":{\"outlinewidth\":0,\"ticks\":\"\"}}],\"histogram2d\":[{\"type\":\"histogram2d\",\"colorbar\":{\"outlinewidth\":0,\"ticks\":\"\"},\"colorscale\":[[0.0,\"#0d0887\"],[0.1111111111111111,\"#46039f\"],[0.2222222222222222,\"#7201a8\"],[0.3333333333333333,\"#9c179e\"],[0.4444444444444444,\"#bd3786\"],[0.5555555555555556,\"#d8576b\"],[0.6666666666666666,\"#ed7953\"],[0.7777777777777778,\"#fb9f3a\"],[0.8888888888888888,\"#fdca26\"],[1.0,\"#f0f921\"]]}],\"heatmap\":[{\"type\":\"heatmap\",\"colorbar\":{\"outlinewidth\":0,\"ticks\":\"\"},\"colorscale\":[[0.0,\"#0d0887\"],[0.1111111111111111,\"#46039f\"],[0.2222222222222222,\"#7201a8\"],[0.3333333333333333,\"#9c179e\"],[0.4444444444444444,\"#bd3786\"],[0.5555555555555556,\"#d8576b\"],[0.6666666666666666,\"#ed7953\"],[0.7777777777777778,\"#fb9f3a\"],[0.8888888888888888,\"#fdca26\"],[1.0,\"#f0f921\"]]}],\"heatmapgl\":[{\"type\":\"heatmapgl\",\"colorbar\":{\"outlinewidth\":0,\"ticks\":\"\"},\"colorscale\":[[0.0,\"#0d0887\"],[0.1111111111111111,\"#46039f\"],[0.2222222222222222,\"#7201a8\"],[0.3333333333333333,\"#9c179e\"],[0.4444444444444444,\"#bd3786\"],[0.5555555555555556,\"#d8576b\"],[0.6666666666666666,\"#ed7953\"],[0.7777777777777778,\"#fb9f3a\"],[0.8888888888888888,\"#fdca26\"],[1.0,\"#f0f921\"]]}],\"contourcarpet\":[{\"type\":\"contourcarpet\",\"colorbar\":{\"outlinewidth\":0,\"ticks\":\"\"}}],\"contour\":[{\"type\":\"contour\",\"colorbar\":{\"outlinewidth\":0,\"ticks\":\"\"},\"colorscale\":[[0.0,\"#0d0887\"],[0.1111111111111111,\"#46039f\"],[0.2222222222222222,\"#7201a8\"],[0.3333333333333333,\"#9c179e\"],[0.4444444444444444,\"#bd3786\"],[0.5555555555555556,\"#d8576b\"],[0.6666666666666666,\"#ed7953\"],[0.7777777777777778,\"#fb9f3a\"],[0.8888888888888888,\"#fdca26\"],[1.0,\"#f0f921\"]]}],\"surface\":[{\"type\":\"surface\",\"colorbar\":{\"outlinewidth\":0,\"ticks\":\"\"},\"colorscale\":[[0.0,\"#0d0887\"],[0.1111111111111111,\"#46039f\"],[0.2222222222222222,\"#7201a8\"],[0.3333333333333333,\"#9c179e\"],[0.4444444444444444,\"#bd3786\"],[0.5555555555555556,\"#d8576b\"],[0.6666666666666666,\"#ed7953\"],[0.7777777777777778,\"#fb9f3a\"],[0.8888888888888888,\"#fdca26\"],[1.0,\"#f0f921\"]]}],\"mesh3d\":[{\"type\":\"mesh3d\",\"colorbar\":{\"outlinewidth\":0,\"ticks\":\"\"}}],\"scatter\":[{\"fillpattern\":{\"fillmode\":\"overlay\",\"size\":10,\"solidity\":0.2},\"type\":\"scatter\"}],\"parcoords\":[{\"type\":\"parcoords\",\"line\":{\"colorbar\":{\"outlinewidth\":0,\"ticks\":\"\"}}}],\"scatterpolargl\":[{\"type\":\"scatterpolargl\",\"marker\":{\"colorbar\":{\"outlinewidth\":0,\"ticks\":\"\"}}}],\"bar\":[{\"error_x\":{\"color\":\"#2a3f5f\"},\"error_y\":{\"color\":\"#2a3f5f\"},\"marker\":{\"line\":{\"color\":\"#E5ECF6\",\"width\":0.5},\"pattern\":{\"fillmode\":\"overlay\",\"size\":10,\"solidity\":0.2}},\"type\":\"bar\"}],\"scattergeo\":[{\"type\":\"scattergeo\",\"marker\":{\"colorbar\":{\"outlinewidth\":0,\"ticks\":\"\"}}}],\"scatterpolar\":[{\"type\":\"scatterpolar\",\"marker\":{\"colorbar\":{\"outlinewidth\":0,\"ticks\":\"\"}}}],\"histogram\":[{\"marker\":{\"pattern\":{\"fillmode\":\"overlay\",\"size\":10,\"solidity\":0.2}},\"type\":\"histogram\"}],\"scattergl\":[{\"type\":\"scattergl\",\"marker\":{\"colorbar\":{\"outlinewidth\":0,\"ticks\":\"\"}}}],\"scatter3d\":[{\"type\":\"scatter3d\",\"line\":{\"colorbar\":{\"outlinewidth\":0,\"ticks\":\"\"}},\"marker\":{\"colorbar\":{\"outlinewidth\":0,\"ticks\":\"\"}}}],\"scattermapbox\":[{\"type\":\"scattermapbox\",\"marker\":{\"colorbar\":{\"outlinewidth\":0,\"ticks\":\"\"}}}],\"scatterternary\":[{\"type\":\"scatterternary\",\"marker\":{\"colorbar\":{\"outlinewidth\":0,\"ticks\":\"\"}}}],\"scattercarpet\":[{\"type\":\"scattercarpet\",\"marker\":{\"colorbar\":{\"outlinewidth\":0,\"ticks\":\"\"}}}],\"carpet\":[{\"aaxis\":{\"endlinecolor\":\"#2a3f5f\",\"gridcolor\":\"white\",\"linecolor\":\"white\",\"minorgridcolor\":\"white\",\"startlinecolor\":\"#2a3f5f\"},\"baxis\":{\"endlinecolor\":\"#2a3f5f\",\"gridcolor\":\"white\",\"linecolor\":\"white\",\"minorgridcolor\":\"white\",\"startlinecolor\":\"#2a3f5f\"},\"type\":\"carpet\"}],\"table\":[{\"cells\":{\"fill\":{\"color\":\"#EBF0F8\"},\"line\":{\"color\":\"white\"}},\"header\":{\"fill\":{\"color\":\"#C8D4E3\"},\"line\":{\"color\":\"white\"}},\"type\":\"table\"}],\"barpolar\":[{\"marker\":{\"line\":{\"color\":\"#E5ECF6\",\"width\":0.5},\"pattern\":{\"fillmode\":\"overlay\",\"size\":10,\"solidity\":0.2}},\"type\":\"barpolar\"}],\"pie\":[{\"automargin\":true,\"type\":\"pie\"}]},\"layout\":{\"autotypenumbers\":\"strict\",\"colorway\":[\"#636efa\",\"#EF553B\",\"#00cc96\",\"#ab63fa\",\"#FFA15A\",\"#19d3f3\",\"#FF6692\",\"#B6E880\",\"#FF97FF\",\"#FECB52\"],\"font\":{\"color\":\"#2a3f5f\"},\"hovermode\":\"closest\",\"hoverlabel\":{\"align\":\"left\"},\"paper_bgcolor\":\"white\",\"plot_bgcolor\":\"#E5ECF6\",\"polar\":{\"bgcolor\":\"#E5ECF6\",\"angularaxis\":{\"gridcolor\":\"white\",\"linecolor\":\"white\",\"ticks\":\"\"},\"radialaxis\":{\"gridcolor\":\"white\",\"linecolor\":\"white\",\"ticks\":\"\"}},\"ternary\":{\"bgcolor\":\"#E5ECF6\",\"aaxis\":{\"gridcolor\":\"white\",\"linecolor\":\"white\",\"ticks\":\"\"},\"baxis\":{\"gridcolor\":\"white\",\"linecolor\":\"white\",\"ticks\":\"\"},\"caxis\":{\"gridcolor\":\"white\",\"linecolor\":\"white\",\"ticks\":\"\"}},\"coloraxis\":{\"colorbar\":{\"outlinewidth\":0,\"ticks\":\"\"}},\"colorscale\":{\"sequential\":[[0.0,\"#0d0887\"],[0.1111111111111111,\"#46039f\"],[0.2222222222222222,\"#7201a8\"],[0.3333333333333333,\"#9c179e\"],[0.4444444444444444,\"#bd3786\"],[0.5555555555555556,\"#d8576b\"],[0.6666666666666666,\"#ed7953\"],[0.7777777777777778,\"#fb9f3a\"],[0.8888888888888888,\"#fdca26\"],[1.0,\"#f0f921\"]],\"sequentialminus\":[[0.0,\"#0d0887\"],[0.1111111111111111,\"#46039f\"],[0.2222222222222222,\"#7201a8\"],[0.3333333333333333,\"#9c179e\"],[0.4444444444444444,\"#bd3786\"],[0.5555555555555556,\"#d8576b\"],[0.6666666666666666,\"#ed7953\"],[0.7777777777777778,\"#fb9f3a\"],[0.8888888888888888,\"#fdca26\"],[1.0,\"#f0f921\"]],\"diverging\":[[0,\"#8e0152\"],[0.1,\"#c51b7d\"],[0.2,\"#de77ae\"],[0.3,\"#f1b6da\"],[0.4,\"#fde0ef\"],[0.5,\"#f7f7f7\"],[0.6,\"#e6f5d0\"],[0.7,\"#b8e186\"],[0.8,\"#7fbc41\"],[0.9,\"#4d9221\"],[1,\"#276419\"]]},\"xaxis\":{\"gridcolor\":\"white\",\"linecolor\":\"white\",\"ticks\":\"\",\"title\":{\"standoff\":15},\"zerolinecolor\":\"white\",\"automargin\":true,\"zerolinewidth\":2},\"yaxis\":{\"gridcolor\":\"white\",\"linecolor\":\"white\",\"ticks\":\"\",\"title\":{\"standoff\":15},\"zerolinecolor\":\"white\",\"automargin\":true,\"zerolinewidth\":2},\"scene\":{\"xaxis\":{\"backgroundcolor\":\"#E5ECF6\",\"gridcolor\":\"white\",\"linecolor\":\"white\",\"showbackground\":true,\"ticks\":\"\",\"zerolinecolor\":\"white\",\"gridwidth\":2},\"yaxis\":{\"backgroundcolor\":\"#E5ECF6\",\"gridcolor\":\"white\",\"linecolor\":\"white\",\"showbackground\":true,\"ticks\":\"\",\"zerolinecolor\":\"white\",\"gridwidth\":2},\"zaxis\":{\"backgroundcolor\":\"#E5ECF6\",\"gridcolor\":\"white\",\"linecolor\":\"white\",\"showbackground\":true,\"ticks\":\"\",\"zerolinecolor\":\"white\",\"gridwidth\":2}},\"shapedefaults\":{\"line\":{\"color\":\"#2a3f5f\"}},\"annotationdefaults\":{\"arrowcolor\":\"#2a3f5f\",\"arrowhead\":0,\"arrowwidth\":1},\"geo\":{\"bgcolor\":\"white\",\"landcolor\":\"#E5ECF6\",\"subunitcolor\":\"white\",\"showland\":true,\"showlakes\":true,\"lakecolor\":\"white\"},\"title\":{\"x\":0.05},\"mapbox\":{\"style\":\"light\"}}},\"xaxis\":{\"anchor\":\"y\",\"domain\":[0.0,1.0],\"title\":{\"text\":\"month\"}},\"yaxis\":{\"anchor\":\"x\",\"domain\":[0.0,1.0],\"title\":{\"text\":\"count\"}},\"legend\":{\"title\":{\"text\":\"status\"},\"tracegroupgap\":0},\"margin\":{\"t\":60},\"barmode\":\"relative\",\"title\":{\"text\":\"Rela\\u00e7\\u00e3o de status por m\\u00eas (ANO 2020)\"}},                        {\"responsive\": true}                    ).then(function(){\n",
       "                            \n",
       "var gd = document.getElementById('d4b33577-5ff8-407f-8211-cafd1b7a560d');\n",
       "var x = new MutationObserver(function (mutations, observer) {{\n",
       "        var display = window.getComputedStyle(gd).display;\n",
       "        if (!display || display === 'none') {{\n",
       "            console.log([gd, 'removed!']);\n",
       "            Plotly.purge(gd);\n",
       "            observer.disconnect();\n",
       "        }}\n",
       "}});\n",
       "\n",
       "// Listen for the removal of the full notebook cells\n",
       "var notebookContainer = gd.closest('#notebook-container');\n",
       "if (notebookContainer) {{\n",
       "    x.observe(notebookContainer, {childList: true});\n",
       "}}\n",
       "\n",
       "// Listen for the clearing of the current output cell\n",
       "var outputEl = gd.closest('.output');\n",
       "if (outputEl) {{\n",
       "    x.observe(outputEl, {childList: true});\n",
       "}}\n",
       "\n",
       "                        })                };                });            </script>        </div>"
      ]
     },
     "metadata": {},
     "output_type": "display_data"
    }
   ],
   "source": [
    "# Filtrar os dados para o ano de 2020 e criar uma cópia\n",
    "tabela_2020 = tabela.loc[tabela['created_at'].dt.year == 2020].copy()\n",
    "\n",
    "# Extrair o mês da coluna 'created_at'\n",
    "tabela_2020['month'] = tabela_2020['created_at'].dt.month\n",
    "\n",
    "# Criar histograma para a coluna 'month'\n",
    "grafico = px.histogram(tabela_2020, x='month', color=\"status\", text_auto=True)\n",
    "grafico.update_layout(title=\"Relação de status por mês (ANO 2020)\")\n",
    "grafico.show()\n"
   ]
  },
  {
   "cell_type": "code",
   "execution_count": 190,
   "id": "4c32191d",
   "metadata": {},
   "outputs": [
    {
     "name": "stderr",
     "output_type": "stream",
     "text": [
      "C:\\Users\\karin\\AppData\\Local\\Temp\\ipykernel_14376\\3263350900.py:2: UserWarning:\n",
      "\n",
      "Could not infer format, so each element will be parsed individually, falling back to `dateutil`. To ensure parsing is consistent and as-expected, please specify a format.\n",
      "\n"
     ]
    },
    {
     "data": {
      "image/png": "[encoded data removed]",
      "text/plain": [
       "<Figure size 640x480 with 1 Axes>"
      ]
     },
     "metadata": {},
     "output_type": "display_data"
    }
   ],
   "source": [
    "# Convert 'deleted_at' column to datetime\n",
    "tabela['deleted_at'] = pd.to_datetime(tabela['deleted_at'], errors='coerce')\n",
    "\n",
    "# Filter rows where \"status\" is equal to \"canceled\" and limited to the year 2021\n",
    "filtered_data = tabela[(tabela[\"status\"] == \"canceled\") & (tabela[\"deleted_at\"].dt.year == 2021)]\n",
    "\n",
    "# Count the occurrence of each unique value in the \"marketing_source\" column\n",
    "count_by_source = filtered_data[\"marketing_source\"].value_counts()\n",
    "\n",
    "# Create the bar chart\n",
    "plt.bar(count_by_source.index, count_by_source.values)\n",
    "\n",
    "# Customize the chart\n",
    "plt.title(\"Distribution of Cancelations by Marketing Source (Year 2021)\")\n",
    "plt.xlabel(\"Marketing Source\")\n",
    "plt.ylabel(\"Number of Cancelations\")\n",
    "\n",
    "# Rotate x-axis labels for better readability if needed\n",
    "plt.xticks(rotation=45)\n",
    "\n",
    "# Display the chart\n",
    "plt.show()\n"
   ]
  },
  {
   "cell_type": "code",
   "execution_count": 191,
   "id": "dd58a7ab",
   "metadata": {},
   "outputs": [
    {
     "data": {
      "image/png": "[encoded data removed]",
      "text/plain": [
       "<Figure size 640x480 with 1 Axes>"
      ]
     },
     "metadata": {},
     "output_type": "display_data"
    }
   ],
   "source": [
    "# Convert 'deleted_at' column to datetime\n",
    "tabela['deleted_at'] = pd.to_datetime(tabela['deleted_at'], errors='coerce')\n",
    "\n",
    "# Filter rows where \"status\" is equal to \"canceled\" and limited to the year 2021\n",
    "filtered_data = tabela[(tabela[\"status\"] == \"canceled\") & (tabela[\"deleted_at\"].dt.year == 2020)]\n",
    "\n",
    "# Count the occurrence of each unique value in the \"marketing_source\" column\n",
    "count_by_source = filtered_data[\"state\"].value_counts()\n",
    "\n",
    "# Create the bar chart\n",
    "plt.bar(count_by_source.index, count_by_source.values)\n",
    "\n",
    "# Customize the chart\n",
    "plt.title(\"Distribuição de cancelamento por estado (ANO 2021)\")\n",
    "plt.xlabel(\"Estados\")\n",
    "plt.ylabel(\"Número de cancelamentos\")\n",
    "\n",
    "# Rotate x-axis labels for better readability if needed\n",
    "plt.xticks(rotation=45)\n",
    "\n",
    "# Display the chart\n",
    "plt.show()"
   ]
  },
  {
   "cell_type": "code",
   "execution_count": 192,
   "id": "3021f3de",
   "metadata": {},
   "outputs": [],
   "source": [
    "tabela.dropna(subset=['deleted_at'], inplace=True)\n"
   ]
  },
  {
   "cell_type": "code",
   "execution_count": 193,
   "id": "9a6dcd7c",
   "metadata": {},
   "outputs": [
    {
     "data": {
      "application/vnd.plotly.v1+json": {
       "config": {
        "plotlyServerURL": "https://plot.ly"
       },
       "data": [
        {
         "alignmentgroup": "True",
         "bingroup": "x",
         "hovertemplate": "status=canceled<br>month=%{x}<br>count=%{y}<extra></extra>",
         "legendgroup": "canceled",
         "marker": {
          "color": "#636efa",
          "pattern": {
           "shape": ""
          }
         },
         "name": "canceled",
         "offsetgroup": "canceled",
         "orientation": "v",
         "showlegend": true,
         "texttemplate": "%{value}",
         "type": "histogram",
         "x": [
          8,
          12,
          2,
          5,
          9,
          9,
          8,
          12,
          2,
          5,
          8,
          6,
          10,
          5,
          11,
          10,
          12,
          10,
          2,
          6,
          4,
          10,
          11,
          6,
          12,
          11,
          8,
          10,
          8,
          12,
          8,
          12,
          7,
          3,
          8,
          2,
          11,
          10,
          3,
          11,
          7,
          12,
          7,
          1,
          7,
          4,
          5,
          12,
          10,
          9,
          12,
          12,
          9,
          12,
          1,
          10,
          3,
          11,
          1,
          11,
          10,
          11,
          10,
          2,
          1,
          8,
          4,
          12,
          9,
          9,
          11,
          9,
          9,
          12,
          9,
          8,
          6,
          7,
          7,
          1,
          1,
          11,
          12,
          4,
          5,
          7,
          7,
          4,
          9,
          4,
          8,
          11,
          11,
          12,
          11,
          3,
          11,
          5,
          12,
          8,
          5,
          9,
          5,
          12,
          10,
          2,
          12,
          2,
          2,
          9,
          9,
          9,
          11,
          1,
          10,
          4,
          12,
          5,
          11,
          12,
          9,
          4,
          2,
          10,
          11,
          11,
          9,
          11,
          12,
          2,
          8,
          12,
          11,
          8,
          2,
          2,
          1,
          4,
          6,
          12,
          1,
          11,
          9,
          11,
          2,
          5,
          6,
          11,
          6,
          8,
          6,
          6,
          8,
          12,
          8,
          12,
          5,
          9,
          12,
          7,
          4,
          8,
          6,
          10,
          12,
          5,
          11,
          11,
          9,
          9,
          10,
          5,
          7,
          7,
          6,
          11,
          12,
          12,
          11,
          2,
          9,
          1,
          7,
          7,
          6,
          4,
          8,
          6,
          5,
          12,
          8,
          9,
          4,
          4,
          10,
          2,
          12,
          6,
          10,
          12,
          9,
          7,
          7,
          3,
          4,
          11,
          4,
          9,
          9,
          7,
          4,
          2,
          4,
          11,
          9,
          8,
          10,
          5,
          1,
          10,
          12,
          12,
          5,
          7,
          6,
          12,
          11,
          10,
          12,
          7,
          1,
          2,
          6,
          11,
          9,
          7,
          12,
          3,
          11
         ],
         "xaxis": "x",
         "yaxis": "y"
        }
       ],
       "layout": {
        "barmode": "relative",
        "legend": {
         "title": {
          "text": "status"
         },
         "tracegroupgap": 0
        },
        "margin": {
         "t": 60
        },
        "template": {
         "data": {
          "bar": [
           {
            "error_x": {
             "color": "#2a3f5f"
            },
            "error_y": {
             "color": "#2a3f5f"
            },
            "marker": {
             "line": {
              "color": "#E5ECF6",
              "width": 0.5
             },
             "pattern": {
              "fillmode": "overlay",
              "size": 10,
              "solidity": 0.2
             }
            },
            "type": "bar"
           }
          ],
          "barpolar": [
           {
            "marker": {
             "line": {
              "color": "#E5ECF6",
              "width": 0.5
             },
             "pattern": {
              "fillmode": "overlay",
              "size": 10,
              "solidity": 0.2
             }
            },
            "type": "barpolar"
           }
          ],
          "carpet": [
           {
            "aaxis": {
             "endlinecolor": "#2a3f5f",
             "gridcolor": "white",
             "linecolor": "white",
             "minorgridcolor": "white",
             "startlinecolor": "#2a3f5f"
            },
            "baxis": {
             "endlinecolor": "#2a3f5f",
             "gridcolor": "white",
             "linecolor": "white",
             "minorgridcolor": "white",
             "startlinecolor": "#2a3f5f"
            },
            "type": "carpet"
           }
          ],
          "choropleth": [
           {
            "colorbar": {
             "outlinewidth": 0,
             "ticks": ""
            },
            "type": "choropleth"
           }
          ],
          "contour": [
           {
            "colorbar": {
             "outlinewidth": 0,
             "ticks": ""
            },
            "colorscale": [
             [
              0,
              "#0d0887"
             ],
             [
              0.1111111111111111,
              "#46039f"
             ],
             [
              0.2222222222222222,
              "#7201a8"
             ],
             [
              0.3333333333333333,
              "#9c179e"
             ],
             [
              0.4444444444444444,
              "#bd3786"
             ],
             [
              0.5555555555555556,
              "#d8576b"
             ],
             [
              0.6666666666666666,
              "#ed7953"
             ],
             [
              0.7777777777777778,
              "#fb9f3a"
             ],
             [
              0.8888888888888888,
              "#fdca26"
             ],
             [
              1,
              "#f0f921"
             ]
            ],
            "type": "contour"
           }
          ],
          "contourcarpet": [
           {
            "colorbar": {
             "outlinewidth": 0,
             "ticks": ""
            },
            "type": "contourcarpet"
           }
          ],
          "heatmap": [
           {
            "colorbar": {
             "outlinewidth": 0,
             "ticks": ""
            },
            "colorscale": [
             [
              0,
              "#0d0887"
             ],
             [
              0.1111111111111111,
              "#46039f"
             ],
             [
              0.2222222222222222,
              "#7201a8"
             ],
             [
              0.3333333333333333,
              "#9c179e"
             ],
             [
              0.4444444444444444,
              "#bd3786"
             ],
             [
              0.5555555555555556,
              "#d8576b"
             ],
             [
              0.6666666666666666,
              "#ed7953"
             ],
             [
              0.7777777777777778,
              "#fb9f3a"
             ],
             [
              0.8888888888888888,
              "#fdca26"
             ],
             [
              1,
              "#f0f921"
             ]
            ],
            "type": "heatmap"
           }
          ],
          "heatmapgl": [
           {
            "colorbar": {
             "outlinewidth": 0,
             "ticks": ""
            },
            "colorscale": [
             [
              0,
              "#0d0887"
             ],
             [
              0.1111111111111111,
              "#46039f"
             ],
             [
              0.2222222222222222,
              "#7201a8"
             ],
             [
              0.3333333333333333,
              "#9c179e"
             ],
             [
              0.4444444444444444,
              "#bd3786"
             ],
             [
              0.5555555555555556,
              "#d8576b"
             ],
             [
              0.6666666666666666,
              "#ed7953"
             ],
             [
              0.7777777777777778,
              "#fb9f3a"
             ],
             [
              0.8888888888888888,
              "#fdca26"
             ],
             [
              1,
              "#f0f921"
             ]
            ],
            "type": "heatmapgl"
           }
          ],
          "histogram": [
           {
            "marker": {
             "pattern": {
              "fillmode": "overlay",
              "size": 10,
              "solidity": 0.2
             }
            },
            "type": "histogram"
           }
          ],
          "histogram2d": [
           {
            "colorbar": {
             "outlinewidth": 0,
             "ticks": ""
            },
            "colorscale": [
             [
              0,
              "#0d0887"
             ],
             [
              0.1111111111111111,
              "#46039f"
             ],
             [
              0.2222222222222222,
              "#7201a8"
             ],
             [
              0.3333333333333333,
              "#9c179e"
             ],
             [
              0.4444444444444444,
              "#bd3786"
             ],
             [
              0.5555555555555556,
              "#d8576b"
             ],
             [
              0.6666666666666666,
              "#ed7953"
             ],
             [
              0.7777777777777778,
              "#fb9f3a"
             ],
             [
              0.8888888888888888,
              "#fdca26"
             ],
             [
              1,
              "#f0f921"
             ]
            ],
            "type": "histogram2d"
           }
          ],
          "histogram2dcontour": [
           {
            "colorbar": {
             "outlinewidth": 0,
             "ticks": ""
            },
            "colorscale": [
             [
              0,
              "#0d0887"
             ],
             [
              0.1111111111111111,
              "#46039f"
             ],
             [
              0.2222222222222222,
              "#7201a8"
             ],
             [
              0.3333333333333333,
              "#9c179e"
             ],
             [
              0.4444444444444444,
              "#bd3786"
             ],
             [
              0.5555555555555556,
              "#d8576b"
             ],
             [
              0.6666666666666666,
              "#ed7953"
             ],
             [
              0.7777777777777778,
              "#fb9f3a"
             ],
             [
              0.8888888888888888,
              "#fdca26"
             ],
             [
              1,
              "#f0f921"
             ]
            ],
            "type": "histogram2dcontour"
           }
          ],
          "mesh3d": [
           {
            "colorbar": {
             "outlinewidth": 0,
             "ticks": ""
            },
            "type": "mesh3d"
           }
          ],
          "parcoords": [
           {
            "line": {
             "colorbar": {
              "outlinewidth": 0,
              "ticks": ""
             }
            },
            "type": "parcoords"
           }
          ],
          "pie": [
           {
            "automargin": true,
            "type": "pie"
           }
          ],
          "scatter": [
           {
            "fillpattern": {
             "fillmode": "overlay",
             "size": 10,
             "solidity": 0.2
            },
            "type": "scatter"
           }
          ],
          "scatter3d": [
           {
            "line": {
             "colorbar": {
              "outlinewidth": 0,
              "ticks": ""
             }
            },
            "marker": {
             "colorbar": {
              "outlinewidth": 0,
              "ticks": ""
             }
            },
            "type": "scatter3d"
           }
          ],
          "scattercarpet": [
           {
            "marker": {
             "colorbar": {
              "outlinewidth": 0,
              "ticks": ""
             }
            },
            "type": "scattercarpet"
           }
          ],
          "scattergeo": [
           {
            "marker": {
             "colorbar": {
              "outlinewidth": 0,
              "ticks": ""
             }
            },
            "type": "scattergeo"
           }
          ],
          "scattergl": [
           {
            "marker": {
             "colorbar": {
              "outlinewidth": 0,
              "ticks": ""
             }
            },
            "type": "scattergl"
           }
          ],
          "scattermapbox": [
           {
            "marker": {
             "colorbar": {
              "outlinewidth": 0,
              "ticks": ""
             }
            },
            "type": "scattermapbox"
           }
          ],
          "scatterpolar": [
           {
            "marker": {
             "colorbar": {
              "outlinewidth": 0,
              "ticks": ""
             }
            },
            "type": "scatterpolar"
           }
          ],
          "scatterpolargl": [
           {
            "marker": {
             "colorbar": {
              "outlinewidth": 0,
              "ticks": ""
             }
            },
            "type": "scatterpolargl"
           }
          ],
          "scatterternary": [
           {
            "marker": {
             "colorbar": {
              "outlinewidth": 0,
              "ticks": ""
             }
            },
            "type": "scatterternary"
           }
          ],
          "surface": [
           {
            "colorbar": {
             "outlinewidth": 0,
             "ticks": ""
            },
            "colorscale": [
             [
              0,
              "#0d0887"
             ],
             [
              0.1111111111111111,
              "#46039f"
             ],
             [
              0.2222222222222222,
              "#7201a8"
             ],
             [
              0.3333333333333333,
              "#9c179e"
             ],
             [
              0.4444444444444444,
              "#bd3786"
             ],
             [
              0.5555555555555556,
              "#d8576b"
             ],
             [
              0.6666666666666666,
              "#ed7953"
             ],
             [
              0.7777777777777778,
              "#fb9f3a"
             ],
             [
              0.8888888888888888,
              "#fdca26"
             ],
             [
              1,
              "#f0f921"
             ]
            ],
            "type": "surface"
           }
          ],
          "table": [
           {
            "cells": {
             "fill": {
              "color": "#EBF0F8"
             },
             "line": {
              "color": "white"
             }
            },
            "header": {
             "fill": {
              "color": "#C8D4E3"
             },
             "line": {
              "color": "white"
             }
            },
            "type": "table"
           }
          ]
         },
         "layout": {
          "annotationdefaults": {
           "arrowcolor": "#2a3f5f",
           "arrowhead": 0,
           "arrowwidth": 1
          },
          "autotypenumbers": "strict",
          "coloraxis": {
           "colorbar": {
            "outlinewidth": 0,
            "ticks": ""
           }
          },
          "colorscale": {
           "diverging": [
            [
             0,
             "#8e0152"
            ],
            [
             0.1,
             "#c51b7d"
            ],
            [
             0.2,
             "#de77ae"
            ],
            [
             0.3,
             "#f1b6da"
            ],
            [
             0.4,
             "#fde0ef"
            ],
            [
             0.5,
             "#f7f7f7"
            ],
            [
             0.6,
             "#e6f5d0"
            ],
            [
             0.7,
             "#b8e186"
            ],
            [
             0.8,
             "#7fbc41"
            ],
            [
             0.9,
             "#4d9221"
            ],
            [
             1,
             "#276419"
            ]
           ],
           "sequential": [
            [
             0,
             "#0d0887"
            ],
            [
             0.1111111111111111,
             "#46039f"
            ],
            [
             0.2222222222222222,
             "#7201a8"
            ],
            [
             0.3333333333333333,
             "#9c179e"
            ],
            [
             0.4444444444444444,
             "#bd3786"
            ],
            [
             0.5555555555555556,
             "#d8576b"
            ],
            [
             0.6666666666666666,
             "#ed7953"
            ],
            [
             0.7777777777777778,
             "#fb9f3a"
            ],
            [
             0.8888888888888888,
             "#fdca26"
            ],
            [
             1,
             "#f0f921"
            ]
           ],
           "sequentialminus": [
            [
             0,
             "#0d0887"
            ],
            [
             0.1111111111111111,
             "#46039f"
            ],
            [
             0.2222222222222222,
             "#7201a8"
            ],
            [
             0.3333333333333333,
             "#9c179e"
            ],
            [
             0.4444444444444444,
             "#bd3786"
            ],
            [
             0.5555555555555556,
             "#d8576b"
            ],
            [
             0.6666666666666666,
             "#ed7953"
            ],
            [
             0.7777777777777778,
             "#fb9f3a"
            ],
            [
             0.8888888888888888,
             "#fdca26"
            ],
            [
             1,
             "#f0f921"
            ]
           ]
          },
          "colorway": [
           "#636efa",
           "#EF553B",
           "#00cc96",
           "#ab63fa",
           "#FFA15A",
           "#19d3f3",
           "#FF6692",
           "#B6E880",
           "#FF97FF",
           "#FECB52"
          ],
          "font": {
           "color": "#2a3f5f"
          },
          "geo": {
           "bgcolor": "white",
           "lakecolor": "white",
           "landcolor": "#E5ECF6",
           "showlakes": true,
           "showland": true,
           "subunitcolor": "white"
          },
          "hoverlabel": {
           "align": "left"
          },
          "hovermode": "closest",
          "mapbox": {
           "style": "light"
          },
          "paper_bgcolor": "white",
          "plot_bgcolor": "#E5ECF6",
          "polar": {
           "angularaxis": {
            "gridcolor": "white",
            "linecolor": "white",
            "ticks": ""
           },
           "bgcolor": "#E5ECF6",
           "radialaxis": {
            "gridcolor": "white",
            "linecolor": "white",
            "ticks": ""
           }
          },
          "scene": {
           "xaxis": {
            "backgroundcolor": "#E5ECF6",
            "gridcolor": "white",
            "gridwidth": 2,
            "linecolor": "white",
            "showbackground": true,
            "ticks": "",
            "zerolinecolor": "white"
           },
           "yaxis": {
            "backgroundcolor": "#E5ECF6",
            "gridcolor": "white",
            "gridwidth": 2,
            "linecolor": "white",
            "showbackground": true,
            "ticks": "",
            "zerolinecolor": "white"
           },
           "zaxis": {
            "backgroundcolor": "#E5ECF6",
            "gridcolor": "white",
            "gridwidth": 2,
            "linecolor": "white",
            "showbackground": true,
            "ticks": "",
            "zerolinecolor": "white"
           }
          },
          "shapedefaults": {
           "line": {
            "color": "#2a3f5f"
           }
          },
          "ternary": {
           "aaxis": {
            "gridcolor": "white",
            "linecolor": "white",
            "ticks": ""
           },
           "baxis": {
            "gridcolor": "white",
            "linecolor": "white",
            "ticks": ""
           },
           "bgcolor": "#E5ECF6",
           "caxis": {
            "gridcolor": "white",
            "linecolor": "white",
            "ticks": ""
           }
          },
          "title": {
           "x": 0.05
          },
          "xaxis": {
           "automargin": true,
           "gridcolor": "white",
           "linecolor": "white",
           "ticks": "",
           "title": {
            "standoff": 15
           },
           "zerolinecolor": "white",
           "zerolinewidth": 2
          },
          "yaxis": {
           "automargin": true,
           "gridcolor": "white",
           "linecolor": "white",
           "ticks": "",
           "title": {
            "standoff": 15
           },
           "zerolinecolor": "white",
           "zerolinewidth": 2
          }
         }
        },
        "title": {
         "text": "Cancelamentos por mês (ANO 2020)"
        },
        "xaxis": {
         "anchor": "y",
         "domain": [
          0,
          1
         ],
         "title": {
          "text": "month"
         }
        },
        "yaxis": {
         "anchor": "x",
         "domain": [
          0,
          1
         ],
         "title": {
          "text": "count"
         }
        }
       }
      },
      "text/html": [
       "<div>                            <div id=\"06ad6619-2eaf-4eca-b005-916aaed8b6ee\" class=\"plotly-graph-div\" style=\"height:525px; width:100%;\"></div>            <script type=\"text/javascript\">                require([\"plotly\"], function(Plotly) {                    window.PLOTLYENV=window.PLOTLYENV || {};                                    if (document.getElementById(\"06ad6619-2eaf-4eca-b005-916aaed8b6ee\")) {                    Plotly.newPlot(                        \"06ad6619-2eaf-4eca-b005-916aaed8b6ee\",                        [{\"alignmentgroup\":\"True\",\"bingroup\":\"x\",\"hovertemplate\":\"status=canceled<br>month=%{x}<br>count=%{y}<extra></extra>\",\"legendgroup\":\"canceled\",\"marker\":{\"color\":\"#636efa\",\"pattern\":{\"shape\":\"\"}},\"name\":\"canceled\",\"offsetgroup\":\"canceled\",\"orientation\":\"v\",\"showlegend\":true,\"texttemplate\":\"%{value}\",\"x\":[8,12,2,5,9,9,8,12,2,5,8,6,10,5,11,10,12,10,2,6,4,10,11,6,12,11,8,10,8,12,8,12,7,3,8,2,11,10,3,11,7,12,7,1,7,4,5,12,10,9,12,12,9,12,1,10,3,11,1,11,10,11,10,2,1,8,4,12,9,9,11,9,9,12,9,8,6,7,7,1,1,11,12,4,5,7,7,4,9,4,8,11,11,12,11,3,11,5,12,8,5,9,5,12,10,2,12,2,2,9,9,9,11,1,10,4,12,5,11,12,9,4,2,10,11,11,9,11,12,2,8,12,11,8,2,2,1,4,6,12,1,11,9,11,2,5,6,11,6,8,6,6,8,12,8,12,5,9,12,7,4,8,6,10,12,5,11,11,9,9,10,5,7,7,6,11,12,12,11,2,9,1,7,7,6,4,8,6,5,12,8,9,4,4,10,2,12,6,10,12,9,7,7,3,4,11,4,9,9,7,4,2,4,11,9,8,10,5,1,10,12,12,5,7,6,12,11,10,12,7,1,2,6,11,9,7,12,3,11],\"xaxis\":\"x\",\"yaxis\":\"y\",\"type\":\"histogram\"}],                        {\"template\":{\"data\":{\"histogram2dcontour\":[{\"type\":\"histogram2dcontour\",\"colorbar\":{\"outlinewidth\":0,\"ticks\":\"\"},\"colorscale\":[[0.0,\"#0d0887\"],[0.1111111111111111,\"#46039f\"],[0.2222222222222222,\"#7201a8\"],[0.3333333333333333,\"#9c179e\"],[0.4444444444444444,\"#bd3786\"],[0.5555555555555556,\"#d8576b\"],[0.6666666666666666,\"#ed7953\"],[0.7777777777777778,\"#fb9f3a\"],[0.8888888888888888,\"#fdca26\"],[1.0,\"#f0f921\"]]}],\"choropleth\":[{\"type\":\"choropleth\",\"colorbar\":{\"outlinewidth\":0,\"ticks\":\"\"}}],\"histogram2d\":[{\"type\":\"histogram2d\",\"colorbar\":{\"outlinewidth\":0,\"ticks\":\"\"},\"colorscale\":[[0.0,\"#0d0887\"],[0.1111111111111111,\"#46039f\"],[0.2222222222222222,\"#7201a8\"],[0.3333333333333333,\"#9c179e\"],[0.4444444444444444,\"#bd3786\"],[0.5555555555555556,\"#d8576b\"],[0.6666666666666666,\"#ed7953\"],[0.7777777777777778,\"#fb9f3a\"],[0.8888888888888888,\"#fdca26\"],[1.0,\"#f0f921\"]]}],\"heatmap\":[{\"type\":\"heatmap\",\"colorbar\":{\"outlinewidth\":0,\"ticks\":\"\"},\"colorscale\":[[0.0,\"#0d0887\"],[0.1111111111111111,\"#46039f\"],[0.2222222222222222,\"#7201a8\"],[0.3333333333333333,\"#9c179e\"],[0.4444444444444444,\"#bd3786\"],[0.5555555555555556,\"#d8576b\"],[0.6666666666666666,\"#ed7953\"],[0.7777777777777778,\"#fb9f3a\"],[0.8888888888888888,\"#fdca26\"],[1.0,\"#f0f921\"]]}],\"heatmapgl\":[{\"type\":\"heatmapgl\",\"colorbar\":{\"outlinewidth\":0,\"ticks\":\"\"},\"colorscale\":[[0.0,\"#0d0887\"],[0.1111111111111111,\"#46039f\"],[0.2222222222222222,\"#7201a8\"],[0.3333333333333333,\"#9c179e\"],[0.4444444444444444,\"#bd3786\"],[0.5555555555555556,\"#d8576b\"],[0.6666666666666666,\"#ed7953\"],[0.7777777777777778,\"#fb9f3a\"],[0.8888888888888888,\"#fdca26\"],[1.0,\"#f0f921\"]]}],\"contourcarpet\":[{\"type\":\"contourcarpet\",\"colorbar\":{\"outlinewidth\":0,\"ticks\":\"\"}}],\"contour\":[{\"type\":\"contour\",\"colorbar\":{\"outlinewidth\":0,\"ticks\":\"\"},\"colorscale\":[[0.0,\"#0d0887\"],[0.1111111111111111,\"#46039f\"],[0.2222222222222222,\"#7201a8\"],[0.3333333333333333,\"#9c179e\"],[0.4444444444444444,\"#bd3786\"],[0.5555555555555556,\"#d8576b\"],[0.6666666666666666,\"#ed7953\"],[0.7777777777777778,\"#fb9f3a\"],[0.8888888888888888,\"#fdca26\"],[1.0,\"#f0f921\"]]}],\"surface\":[{\"type\":\"surface\",\"colorbar\":{\"outlinewidth\":0,\"ticks\":\"\"},\"colorscale\":[[0.0,\"#0d0887\"],[0.1111111111111111,\"#46039f\"],[0.2222222222222222,\"#7201a8\"],[0.3333333333333333,\"#9c179e\"],[0.4444444444444444,\"#bd3786\"],[0.5555555555555556,\"#d8576b\"],[0.6666666666666666,\"#ed7953\"],[0.7777777777777778,\"#fb9f3a\"],[0.8888888888888888,\"#fdca26\"],[1.0,\"#f0f921\"]]}],\"mesh3d\":[{\"type\":\"mesh3d\",\"colorbar\":{\"outlinewidth\":0,\"ticks\":\"\"}}],\"scatter\":[{\"fillpattern\":{\"fillmode\":\"overlay\",\"size\":10,\"solidity\":0.2},\"type\":\"scatter\"}],\"parcoords\":[{\"type\":\"parcoords\",\"line\":{\"colorbar\":{\"outlinewidth\":0,\"ticks\":\"\"}}}],\"scatterpolargl\":[{\"type\":\"scatterpolargl\",\"marker\":{\"colorbar\":{\"outlinewidth\":0,\"ticks\":\"\"}}}],\"bar\":[{\"error_x\":{\"color\":\"#2a3f5f\"},\"error_y\":{\"color\":\"#2a3f5f\"},\"marker\":{\"line\":{\"color\":\"#E5ECF6\",\"width\":0.5},\"pattern\":{\"fillmode\":\"overlay\",\"size\":10,\"solidity\":0.2}},\"type\":\"bar\"}],\"scattergeo\":[{\"type\":\"scattergeo\",\"marker\":{\"colorbar\":{\"outlinewidth\":0,\"ticks\":\"\"}}}],\"scatterpolar\":[{\"type\":\"scatterpolar\",\"marker\":{\"colorbar\":{\"outlinewidth\":0,\"ticks\":\"\"}}}],\"histogram\":[{\"marker\":{\"pattern\":{\"fillmode\":\"overlay\",\"size\":10,\"solidity\":0.2}},\"type\":\"histogram\"}],\"scattergl\":[{\"type\":\"scattergl\",\"marker\":{\"colorbar\":{\"outlinewidth\":0,\"ticks\":\"\"}}}],\"scatter3d\":[{\"type\":\"scatter3d\",\"line\":{\"colorbar\":{\"outlinewidth\":0,\"ticks\":\"\"}},\"marker\":{\"colorbar\":{\"outlinewidth\":0,\"ticks\":\"\"}}}],\"scattermapbox\":[{\"type\":\"scattermapbox\",\"marker\":{\"colorbar\":{\"outlinewidth\":0,\"ticks\":\"\"}}}],\"scatterternary\":[{\"type\":\"scatterternary\",\"marker\":{\"colorbar\":{\"outlinewidth\":0,\"ticks\":\"\"}}}],\"scattercarpet\":[{\"type\":\"scattercarpet\",\"marker\":{\"colorbar\":{\"outlinewidth\":0,\"ticks\":\"\"}}}],\"carpet\":[{\"aaxis\":{\"endlinecolor\":\"#2a3f5f\",\"gridcolor\":\"white\",\"linecolor\":\"white\",\"minorgridcolor\":\"white\",\"startlinecolor\":\"#2a3f5f\"},\"baxis\":{\"endlinecolor\":\"#2a3f5f\",\"gridcolor\":\"white\",\"linecolor\":\"white\",\"minorgridcolor\":\"white\",\"startlinecolor\":\"#2a3f5f\"},\"type\":\"carpet\"}],\"table\":[{\"cells\":{\"fill\":{\"color\":\"#EBF0F8\"},\"line\":{\"color\":\"white\"}},\"header\":{\"fill\":{\"color\":\"#C8D4E3\"},\"line\":{\"color\":\"white\"}},\"type\":\"table\"}],\"barpolar\":[{\"marker\":{\"line\":{\"color\":\"#E5ECF6\",\"width\":0.5},\"pattern\":{\"fillmode\":\"overlay\",\"size\":10,\"solidity\":0.2}},\"type\":\"barpolar\"}],\"pie\":[{\"automargin\":true,\"type\":\"pie\"}]},\"layout\":{\"autotypenumbers\":\"strict\",\"colorway\":[\"#636efa\",\"#EF553B\",\"#00cc96\",\"#ab63fa\",\"#FFA15A\",\"#19d3f3\",\"#FF6692\",\"#B6E880\",\"#FF97FF\",\"#FECB52\"],\"font\":{\"color\":\"#2a3f5f\"},\"hovermode\":\"closest\",\"hoverlabel\":{\"align\":\"left\"},\"paper_bgcolor\":\"white\",\"plot_bgcolor\":\"#E5ECF6\",\"polar\":{\"bgcolor\":\"#E5ECF6\",\"angularaxis\":{\"gridcolor\":\"white\",\"linecolor\":\"white\",\"ticks\":\"\"},\"radialaxis\":{\"gridcolor\":\"white\",\"linecolor\":\"white\",\"ticks\":\"\"}},\"ternary\":{\"bgcolor\":\"#E5ECF6\",\"aaxis\":{\"gridcolor\":\"white\",\"linecolor\":\"white\",\"ticks\":\"\"},\"baxis\":{\"gridcolor\":\"white\",\"linecolor\":\"white\",\"ticks\":\"\"},\"caxis\":{\"gridcolor\":\"white\",\"linecolor\":\"white\",\"ticks\":\"\"}},\"coloraxis\":{\"colorbar\":{\"outlinewidth\":0,\"ticks\":\"\"}},\"colorscale\":{\"sequential\":[[0.0,\"#0d0887\"],[0.1111111111111111,\"#46039f\"],[0.2222222222222222,\"#7201a8\"],[0.3333333333333333,\"#9c179e\"],[0.4444444444444444,\"#bd3786\"],[0.5555555555555556,\"#d8576b\"],[0.6666666666666666,\"#ed7953\"],[0.7777777777777778,\"#fb9f3a\"],[0.8888888888888888,\"#fdca26\"],[1.0,\"#f0f921\"]],\"sequentialminus\":[[0.0,\"#0d0887\"],[0.1111111111111111,\"#46039f\"],[0.2222222222222222,\"#7201a8\"],[0.3333333333333333,\"#9c179e\"],[0.4444444444444444,\"#bd3786\"],[0.5555555555555556,\"#d8576b\"],[0.6666666666666666,\"#ed7953\"],[0.7777777777777778,\"#fb9f3a\"],[0.8888888888888888,\"#fdca26\"],[1.0,\"#f0f921\"]],\"diverging\":[[0,\"#8e0152\"],[0.1,\"#c51b7d\"],[0.2,\"#de77ae\"],[0.3,\"#f1b6da\"],[0.4,\"#fde0ef\"],[0.5,\"#f7f7f7\"],[0.6,\"#e6f5d0\"],[0.7,\"#b8e186\"],[0.8,\"#7fbc41\"],[0.9,\"#4d9221\"],[1,\"#276419\"]]},\"xaxis\":{\"gridcolor\":\"white\",\"linecolor\":\"white\",\"ticks\":\"\",\"title\":{\"standoff\":15},\"zerolinecolor\":\"white\",\"automargin\":true,\"zerolinewidth\":2},\"yaxis\":{\"gridcolor\":\"white\",\"linecolor\":\"white\",\"ticks\":\"\",\"title\":{\"standoff\":15},\"zerolinecolor\":\"white\",\"automargin\":true,\"zerolinewidth\":2},\"scene\":{\"xaxis\":{\"backgroundcolor\":\"#E5ECF6\",\"gridcolor\":\"white\",\"linecolor\":\"white\",\"showbackground\":true,\"ticks\":\"\",\"zerolinecolor\":\"white\",\"gridwidth\":2},\"yaxis\":{\"backgroundcolor\":\"#E5ECF6\",\"gridcolor\":\"white\",\"linecolor\":\"white\",\"showbackground\":true,\"ticks\":\"\",\"zerolinecolor\":\"white\",\"gridwidth\":2},\"zaxis\":{\"backgroundcolor\":\"#E5ECF6\",\"gridcolor\":\"white\",\"linecolor\":\"white\",\"showbackground\":true,\"ticks\":\"\",\"zerolinecolor\":\"white\",\"gridwidth\":2}},\"shapedefaults\":{\"line\":{\"color\":\"#2a3f5f\"}},\"annotationdefaults\":{\"arrowcolor\":\"#2a3f5f\",\"arrowhead\":0,\"arrowwidth\":1},\"geo\":{\"bgcolor\":\"white\",\"landcolor\":\"#E5ECF6\",\"subunitcolor\":\"white\",\"showland\":true,\"showlakes\":true,\"lakecolor\":\"white\"},\"title\":{\"x\":0.05},\"mapbox\":{\"style\":\"light\"}}},\"xaxis\":{\"anchor\":\"y\",\"domain\":[0.0,1.0],\"title\":{\"text\":\"month\"}},\"yaxis\":{\"anchor\":\"x\",\"domain\":[0.0,1.0],\"title\":{\"text\":\"count\"}},\"legend\":{\"title\":{\"text\":\"status\"},\"tracegroupgap\":0},\"margin\":{\"t\":60},\"barmode\":\"relative\",\"title\":{\"text\":\"Cancelamentos por m\\u00eas (ANO 2020)\"}},                        {\"responsive\": true}                    ).then(function(){\n",
       "                            \n",
       "var gd = document.getElementById('06ad6619-2eaf-4eca-b005-916aaed8b6ee');\n",
       "var x = new MutationObserver(function (mutations, observer) {{\n",
       "        var display = window.getComputedStyle(gd).display;\n",
       "        if (!display || display === 'none') {{\n",
       "            console.log([gd, 'removed!']);\n",
       "            Plotly.purge(gd);\n",
       "            observer.disconnect();\n",
       "        }}\n",
       "}});\n",
       "\n",
       "// Listen for the removal of the full notebook cells\n",
       "var notebookContainer = gd.closest('#notebook-container');\n",
       "if (notebookContainer) {{\n",
       "    x.observe(notebookContainer, {childList: true});\n",
       "}}\n",
       "\n",
       "// Listen for the clearing of the current output cell\n",
       "var outputEl = gd.closest('.output');\n",
       "if (outputEl) {{\n",
       "    x.observe(outputEl, {childList: true});\n",
       "}}\n",
       "\n",
       "                        })                };                });            </script>        </div>"
      ]
     },
     "metadata": {},
     "output_type": "display_data"
    }
   ],
   "source": [
    "# Filtrar os dados para o ano de 2020 e criar uma cópia\n",
    "tabela_2020 = tabela.loc[tabela['deleted_at'].dt.year == 2020].copy()\n",
    "\n",
    "# Extrair o mês da coluna 'created_at'\n",
    "tabela_2020['month'] = tabela_2020['deleted_at'].dt.month\n",
    "\n",
    "# Criar histograma para a coluna 'month'\n",
    "grafico = px.histogram(tabela_2020, x='month', color=\"status\", text_auto=True)\n",
    "grafico.update_layout(title=\"Cancelamentos por mês (ANO 2020)\")\n",
    "grafico.show()"
   ]
  },
  {
   "cell_type": "code",
   "execution_count": null,
   "id": "15fc1e92",
   "metadata": {},
   "outputs": [],
   "source": []
  }
 ],
 "metadata": {
  "celltoolbar": "Edit Metadata",
  "kernelspec": {
   "display_name": "Python 3 (ipykernel)",
   "language": "python",
   "name": "python3"
  },
  "language_info": {
   "codemirror_mode": {
    "name": "ipython",
    "version": 3
   },
   "file_extension": ".py",
   "mimetype": "text/x-python",
   "name": "python",
   "nbconvert_exporter": "python",
   "pygments_lexer": "ipython3",
   "version": "3.11.3"
  }
 },
 "nbformat": 4,
 "nbformat_minor": 5
}
